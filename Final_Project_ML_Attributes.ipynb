{
 "cells": [
  {
   "cell_type": "code",
   "execution_count": 216,
   "metadata": {},
   "outputs": [],
   "source": [
    "# import necessary libraries\n",
    "import numpy as np\n",
    "import pandas as pd\n",
    "import matplotlib.pyplot as plt\n",
    "%matplotlib inline\n",
    "import seaborn as sns\n",
    "import networkx as nx\n",
    "\n",
    "color = sns.color_palette()"
   ]
  },
  {
   "cell_type": "markdown",
   "metadata": {},
   "source": [
    "# 1. Setting Up"
   ]
  },
  {
   "cell_type": "code",
   "execution_count": 217,
   "metadata": {},
   "outputs": [],
   "source": [
    "# Import necessary libraries\n",
    "\n",
    "#misc\n",
    "import gc\n",
    "import time\n",
    "import warnings\n",
    "import json\n",
    "import os\n",
    "import ast\n",
    "\n",
    "import numpy as np\n",
    "import pandas as pd\n",
    "\n",
    "# Plotting\n",
    "import matplotlib.pyplot as plt\n",
    "%matplotlib inline\n",
    "import seaborn as sns\n",
    "color = sns.color_palette()"
   ]
  },
  {
   "cell_type": "markdown",
   "metadata": {},
   "source": [
    "Load the business dataset"
   ]
  },
  {
   "cell_type": "code",
   "execution_count": 218,
   "metadata": {},
   "outputs": [
    {
     "name": "stdout",
     "output_type": "stream",
     "text": [
      "<class 'pandas.core.frame.DataFrame'>\n",
      "RangeIndex: 188593 entries, 0 to 188592\n",
      "Data columns (total 61 columns):\n",
      "hours.Friday                             141796 non-null object\n",
      "attributes.RestaurantsAttire             48182 non-null object\n",
      "attributes.BikeParking                   84891 non-null object\n",
      "state                                    188593 non-null object\n",
      "categories                               188052 non-null object\n",
      "attributes.BusinessParking               103424 non-null object\n",
      "attributes.Alcohol                       47892 non-null object\n",
      "attributes.GoodForDancing                9162 non-null object\n",
      "attributes.BYOB                          911 non-null object\n",
      "attributes.DietaryRestrictions           138 non-null object\n",
      "attributes.RestaurantsReservations       51363 non-null object\n",
      "attributes.GoodForKids                   64931 non-null object\n",
      "attributes.Smoking                       8113 non-null object\n",
      "hours.Sunday                             93387 non-null object\n",
      "attributes.BYOBCorkage                   1409 non-null object\n",
      "latitude                                 188587 non-null float64\n",
      "attributes.BusinessAcceptsBitcoin        12674 non-null object\n",
      "attributes.GoodForMeal                   47483 non-null object\n",
      "attributes.BestNights                    6844 non-null object\n",
      "attributes.NoiseLevel                    43710 non-null object\n",
      "attributes.Corkage                       657 non-null object\n",
      "attributes.Music                         8807 non-null object\n",
      "hours.Wednesday                          141843 non-null object\n",
      "attributes.Open24Hours                   352 non-null object\n",
      "longitude                                188587 non-null float64\n",
      "neighborhood                             68655 non-null object\n",
      "attributes.HairSpecializesIn             1881 non-null object\n",
      "hours.Thursday                           142359 non-null object\n",
      "attributes.AgesAllowed                   397 non-null object\n",
      "attributes.ByAppointmentOnly             45423 non-null object\n",
      "business_id                              188593 non-null object\n",
      "attributes.RestaurantsDelivery           51668 non-null object\n",
      "attributes.RestaurantsGoodForGroups      53839 non-null object\n",
      "postal_code                              187912 non-null object\n",
      "attributes.RestaurantsTableService       43325 non-null object\n",
      "attributes.WiFi                          49026 non-null object\n",
      "hours                                    143791 non-null object\n",
      "attributes.DogsAllowed                   13681 non-null object\n",
      "review_count                             188593 non-null int64\n",
      "name                                     188593 non-null object\n",
      "attributes.BusinessAcceptsCreditCards    140391 non-null object\n",
      "hours.Saturday                           125376 non-null object\n",
      "attributes.Ambience                      47577 non-null object\n",
      "attributes.RestaurantsCounterService     397 non-null object\n",
      "attributes.DriveThru                     6754 non-null object\n",
      "attributes.Caters                        40038 non-null object\n",
      "address                                  180970 non-null object\n",
      "attributes.RestaurantsPriceRange2        107120 non-null float64\n",
      "attributes.RestaurantsTakeOut            61206 non-null object\n",
      "hours.Tuesday                            140607 non-null object\n",
      "attributes.WheelchairAccessible          52023 non-null object\n",
      "attributes.HasTV                         47533 non-null object\n",
      "attributes.HappyHour                     9285 non-null object\n",
      "hours.Monday                             132761 non-null object\n",
      "attributes.CoatCheck                     8531 non-null object\n",
      "attributes.OutdoorSeating                54181 non-null object\n",
      "is_open                                  188593 non-null int64\n",
      "attributes.AcceptsInsurance              11671 non-null object\n",
      "attributes                               162807 non-null object\n",
      "stars                                    188593 non-null float64\n",
      "city                                     188583 non-null object\n",
      "dtypes: float64(4), int64(2), object(55)\n",
      "memory usage: 87.8+ MB\n"
     ]
    }
   ],
   "source": [
    "business = pd.read_csv('/home/han2114/final_project_tools_analytics/yelp_academic_dataset_business_full.csv')\n",
    "business.info()"
   ]
  },
  {
   "cell_type": "code",
   "execution_count": 219,
   "metadata": {},
   "outputs": [
    {
     "name": "stdout",
     "output_type": "stream",
     "text": [
      "There are  1305  different types/categories of Businesses in Yelp!\n"
     ]
    }
   ],
   "source": [
    "cat_all = ','.join(business['categories'].dropna()).replace(\" \", \"\")\n",
    "cat_all = pd.DataFrame(cat_all.split(','), columns=['category'])\n",
    "cat_all_count = cat_all.category.value_counts().sort_values(ascending = False)\n",
    "print(\"There are \",len(cat_all_count),\" different types/categories of Businesses in Yelp!\")"
   ]
  },
  {
   "cell_type": "code",
   "execution_count": 221,
   "metadata": {},
   "outputs": [
    {
     "data": {
      "text/plain": [
       "Restaurants       57173\n",
       "Shopping          30231\n",
       "Food              27118\n",
       "Beauty&Spas       18967\n",
       "HomeServices      18634\n",
       "Health&Medical    16157\n",
       "LocalServices     12906\n",
       "Automotive        12656\n",
       "Nightlife         12438\n",
       "Bars              10853\n",
       "Name: category, dtype: int64"
      ]
     },
     "execution_count": 221,
     "metadata": {},
     "output_type": "execute_result"
    }
   ],
   "source": [
    "cat_all_count[0:10]"
   ]
  },
  {
   "cell_type": "code",
   "execution_count": 222,
   "metadata": {},
   "outputs": [],
   "source": [
    "tfile = open('cat_all_count.txt', 'a')\n",
    "tfile.write(cat_all_count.to_string())\n",
    "tfile.close()"
   ]
  },
  {
   "cell_type": "code",
   "execution_count": 223,
   "metadata": {},
   "outputs": [],
   "source": [
    "food_masks = ['Restaurants', 'Food','Sandwiches', 'FastFood', 'Breakfast&Brunch', 'SpecialtyFood', 'Burgers',\n",
    "                    'American(Traditional)', 'American(New)','Pizza', 'Italian','African','Falafel','Turkish',\n",
    "                    'Desserts', 'Bakeries', 'Salad','ChickenWings', 'Mexican','Seafood','Chinese','Malaysian',\n",
    "                    'IceCream&FrozenYogurt', 'Delis', 'Japanese', 'Bars', 'Canadian(New)', 'AsianFusion',\n",
    "                    'Mediterranean', 'SushiBars','JuiceBars&Smoothies','Steakhouses','Coffee&Tea','Pretzels','PanAsian',\n",
    "                    'Barbeque','Beer','Wine&Spirits','SportsBars', 'Pubs','British','Poke','Delicatessen',\n",
    "                     'Lounges', 'WineBars', 'CocktailBars', 'Diners','Patisserie/CakeShop','Kosher','Afghan',\n",
    "                     'Vegetarian', 'EthnicFood', 'MiddleEastern','Persian/Iranian','FoodCourt','IrishPub',\n",
    "                     'Gluten-Free','ComfortFood','Indian','Soup','Vegan', 'Thai','FoodTrucks','Szechuan',\n",
    "                     'French','Greek','Buffets','Vietnamese','HotDogs','DiveBars','Tex-Mex','HotPot','Polish','Moroccan',\n",
    "                     'ImportedFood','Gastropubs','Bagels','BeerBar','Halal','Korean','Donuts','Tapas/SmallPlates',\n",
    "                     'Breweries','Southern','LatinAmerican','Do-It-YourselfFood','InternetCafes','Cantonese',\n",
    "                     'BubbleTea','TapasBars','Caribbean','Lebanese','CoffeeRoasteries','Gelato','Brazilian',\n",
    "                     'Pakistani','FoodStands','Hawaiian','Dim Sum','Tacos','SoulFood','Creperies','Ethiopian',\n",
    "                     'Fish&Chips','Cajun/Creole','Irish','ShavedIce','InternetCafes','Bistros','Peruvian','Waffles',\n",
    "                     'ModernEuropean','Taiwanese','Filipino','Cheesesteaks','German','Brasseries','Cuban',\n",
    "                     'Wineries','Ramen','Spanish','Poutineries','TeaRooms','Noodles','Cupcakes','Portuguese']"
   ]
  },
  {
   "cell_type": "code",
   "execution_count": 224,
   "metadata": {},
   "outputs": [],
   "source": [
    "bus_cats = business['categories']\n",
    "index_food_masks = list()\n",
    "NaN_list = list()\n",
    "for index, bus_cat in enumerate(bus_cats):\n",
    "    if pd.isnull(bus_cat) == True:\n",
    "        NaN_list.append(index)\n",
    "    else:\n",
    "        if bool(set(bus_cat.replace(\" \",\"\").split(',')) & set(food_masks)):\n",
    "            index_food_masks.append(index)"
   ]
  },
  {
   "cell_type": "code",
   "execution_count": 225,
   "metadata": {},
   "outputs": [],
   "source": [
    "restaurants = business.iloc[index_food_masks]"
   ]
  },
  {
   "cell_type": "code",
   "execution_count": 226,
   "metadata": {},
   "outputs": [
    {
     "name": "stdout",
     "output_type": "stream",
     "text": [
      "There are  835  different types/categories of Restaurants in Yelp!\n"
     ]
    }
   ],
   "source": [
    "cat_all_res = ','.join(restaurants['categories']).replace(\" \", \"\")\n",
    "cat_all_res = pd.DataFrame(cat_all_res.split(','), columns=['category'])\n",
    "cat_all_res_count = cat_all_res.category.value_counts().sort_values(ascending = False)\n",
    "print(\"There are \",len(cat_all_res_count),\" different types/categories of Restaurants in Yelp!\")"
   ]
  },
  {
   "cell_type": "markdown",
   "metadata": {},
   "source": [
    "Choose only US and Canada"
   ]
  },
  {
   "cell_type": "code",
   "execution_count": 227,
   "metadata": {},
   "outputs": [],
   "source": [
    "USA_mask = ['AL','AK','AZ','AR','CA','CO','CT','DE','FL','GA','HI','ID','IL','IN','IA','KS','KY',\n",
    "            'LA','ME','MD','MA','MI','MN','MS','MO','MT','NE','NV','NH','NJ','NM','NY','NC','ND',\n",
    "            'OH','OK','OR','PA','RI','SC','SD','TN','TX','UT','VT','VA','WA','WV','WI','WY']\n",
    "CAN_mask = ['ON','QC','AB','BC','MB','NB','NL','NT','NS','NU','PE','SK','YT']\n",
    "location_mask = USA_mask + CAN_mask"
   ]
  },
  {
   "cell_type": "code",
   "execution_count": 228,
   "metadata": {},
   "outputs": [],
   "source": [
    "index_location_mask = list()\n",
    "state = restaurants['state']\n",
    "for index, state in enumerate(state):\n",
    "    if state in location_mask:\n",
    "        index_location_mask.append(index)"
   ]
  },
  {
   "cell_type": "code",
   "execution_count": 229,
   "metadata": {},
   "outputs": [],
   "source": [
    "restaurants = restaurants.iloc[index_location_mask]"
   ]
  },
  {
   "cell_type": "code",
   "execution_count": 230,
   "metadata": {},
   "outputs": [],
   "source": [
    "def label_country (row):\n",
    "    if row['state'] in  USA_mask:\n",
    "          return 'USA'\n",
    "    if row['state'] in  CAN_mask:\n",
    "          return 'Canada'\n",
    "\n",
    "restaurants['country'] = restaurants.apply(lambda row: label_country(row),axis=1)"
   ]
  },
  {
   "cell_type": "markdown",
   "metadata": {},
   "source": [
    "# 2. Exploratory Data Analysis"
   ]
  },
  {
   "cell_type": "markdown",
   "metadata": {},
   "source": [
    "### 2A. Rating Distributions"
   ]
  },
  {
   "cell_type": "code",
   "execution_count": 15,
   "metadata": {},
   "outputs": [
    {
     "data": {
      "text/plain": [
       "1.0      537\n",
       "1.5     1534\n",
       "2.0     4058\n",
       "2.5     7386\n",
       "3.0    12931\n",
       "3.5    17339\n",
       "4.0    18063\n",
       "4.5    10010\n",
       "5.0     3168\n",
       "Name: stars, dtype: int64"
      ]
     },
     "execution_count": 15,
     "metadata": {},
     "output_type": "execute_result"
    }
   ],
   "source": [
    "# Get the distribution of the ratings\n",
    "rating_dist = restaurants['stars'].value_counts().sort_index()\n",
    "rating_dist"
   ]
  },
  {
   "cell_type": "code",
   "execution_count": 16,
   "metadata": {},
   "outputs": [
    {
     "data": {
      "image/png": "[encoded data removed]",
      "text/plain": [
       "<Figure size 1080x1080 with 1 Axes>"
      ]
     },
     "metadata": {
      "needs_background": "light"
     },
     "output_type": "display_data"
    }
   ],
   "source": [
    "plt.figure(figsize=(15,15))\n",
    "ax = sns.barplot(rating_dist.index, rating_dist.values, alpha=0.8)\n",
    "plt.title(\"Rating Distribution\")\n",
    "plt.ylabel('Number of business', fontsize=15)\n",
    "plt.xlabel('Rating', fontsize=15)\n",
    "\n",
    "rects = ax.patches\n",
    "labels = rating_dist.values\n",
    "for rect, label in zip(rects, labels):\n",
    "    height = rect.get_height()\n",
    "    ax.text(rect.get_x() + rect.get_width()/2, height + 5, label, ha='center', va='bottom')\n",
    "plt.show()"
   ]
  },
  {
   "cell_type": "code",
   "execution_count": 17,
   "metadata": {},
   "outputs": [
    {
     "data": {
      "image/png": "[encoded data removed]",
      "text/plain": [
       "<Figure size 864x864 with 1 Axes>"
      ]
     },
     "metadata": {},
     "output_type": "display_data"
    }
   ],
   "source": [
    "plt.figure(figsize=(12,12))\n",
    "labels = (np.array(rating_dist.index))\n",
    "sizes = (np.array((rating_dist / rating_dist.sum())*100))\n",
    "plt.pie(sizes, labels=labels, \n",
    "        autopct= '%1.1f%%', startangle = 200)\n",
    "plt.title(\"Rating Share\", fontsize=15)\n",
    "plt.show()"
   ]
  },
  {
   "cell_type": "code",
   "execution_count": 18,
   "metadata": {
    "scrolled": true
   },
   "outputs": [
    {
     "data": {
      "image/png": "[encoded data removed]",
      "text/plain": [
       "<Figure size 1152x288 with 1 Axes>"
      ]
     },
     "metadata": {
      "needs_background": "light"
     },
     "output_type": "display_data"
    }
   ],
   "source": [
    "x = cat_all_res_count.iloc[0:20]\n",
    "\n",
    "plt.figure(figsize=(16,4))\n",
    "ax = sns.barplot(x.index, x.values, alpha=0.8)\n",
    "plt.title(\"What are the top categories?\",fontsize=25)\n",
    "locs, labels = plt.xticks()\n",
    "plt.setp(labels, rotation=80)\n",
    "plt.ylabel('# businesses', fontsize=12)\n",
    "plt.xlabel('Category', fontsize=12)\n",
    "\n",
    "rects = ax.patches\n",
    "labels = x.values\n",
    "for rect, label in zip(rects, labels):\n",
    "    height = rect.get_height()\n",
    "    ax.text(rect.get_x() + rect.get_width()/2, height + 5, label, ha='center', va='bottom')\n",
    "\n",
    "plt.show()"
   ]
  },
  {
   "cell_type": "code",
   "execution_count": 19,
   "metadata": {},
   "outputs": [
    {
     "data": {
      "image/png": "[encoded data removed]",
      "text/plain": [
       "<Figure size 1152x288 with 1 Axes>"
      ]
     },
     "metadata": {
      "needs_background": "light"
     },
     "output_type": "display_data"
    }
   ],
   "source": [
    "# Location distribution\n",
    "\n",
    "city_count = restaurants['city'].value_counts().sort_values(ascending=False)\n",
    "plt.figure(figsize=(16,4))\n",
    "ax = sns.barplot(city_count[0:20].index, city_count[0:20].values, alpha=0.8)\n",
    "plt.title(\"Which city has the most reviews?\")\n",
    "locs, labels = plt.xticks()\n",
    "plt.setp(labels, rotation=45)\n",
    "plt.ylabel('# restaurants', fontsize=12)\n",
    "plt.xlabel('City', fontsize=12)\n",
    "\n",
    "rects = ax.patches\n",
    "labels = city_count.values\n",
    "for rect, label in zip(rects, labels):\n",
    "    height = rect.get_height()\n",
    "    ax.text(rect.get_x() + rect.get_width()/2, height + 5, label, ha='center', va='bottom')\n",
    "\n",
    "plt.show()"
   ]
  },
  {
   "cell_type": "code",
   "execution_count": 20,
   "metadata": {},
   "outputs": [
    {
     "data": {
      "image/png": "[encoded data removed]",
      "text/plain": [
       "<Figure size 1152x288 with 1 Axes>"
      ]
     },
     "metadata": {
      "needs_background": "light"
     },
     "output_type": "display_data"
    }
   ],
   "source": [
    "# Country distribution\n",
    "\n",
    "country_count = restaurants['country'].value_counts().sort_values(ascending=False)\n",
    "plt.figure(figsize=(16,4))\n",
    "ax = sns.barplot(country_count.index, country_count.values, alpha=0.8)\n",
    "plt.title(\"Which country has the most reviews?\")\n",
    "locs, labels = plt.xticks()\n",
    "plt.setp(labels, rotation=45)\n",
    "plt.ylabel('# restaurants', fontsize=12)\n",
    "plt.xlabel('Country', fontsize=12)\n",
    "\n",
    "rects = ax.patches\n",
    "labels = country_count.values\n",
    "for rect, label in zip(rects, labels):\n",
    "    height = rect.get_height()\n",
    "    ax.text(rect.get_x() + rect.get_width()/2, height + 5, label, ha='center', va='bottom')\n",
    "\n",
    "plt.show()"
   ]
  },
  {
   "cell_type": "code",
   "execution_count": 24,
   "metadata": {},
   "outputs": [
    {
     "data": {
      "image/png": "[encoded data removed]",
      "text/plain": [
       "<Figure size 720x720 with 1 Axes>"
      ]
     },
     "metadata": {
      "needs_background": "light"
     },
     "output_type": "display_data"
    }
   ],
   "source": [
    "country_state = restaurants.groupby(['country','state'])\n",
    "country_state = country_state.size().unstack().plot(kind = 'bar',figsize = (10,10))"
   ]
  },
  {
   "cell_type": "code",
   "execution_count": 139,
   "metadata": {},
   "outputs": [
    {
     "data": {
      "text/html": [
       "<div>\n",
       "<style scoped>\n",
       "    .dataframe tbody tr th:only-of-type {\n",
       "        vertical-align: middle;\n",
       "    }\n",
       "\n",
       "    .dataframe tbody tr th {\n",
       "        vertical-align: top;\n",
       "    }\n",
       "\n",
       "    .dataframe thead th {\n",
       "        text-align: right;\n",
       "    }\n",
       "</style>\n",
       "<table border=\"1\" class=\"dataframe\">\n",
       "  <thead>\n",
       "    <tr style=\"text-align: right;\">\n",
       "      <th></th>\n",
       "      <th>name</th>\n",
       "      <th>business_id</th>\n",
       "      <th>review_count</th>\n",
       "      <th>city</th>\n",
       "      <th>stars</th>\n",
       "    </tr>\n",
       "  </thead>\n",
       "  <tbody>\n",
       "    <tr>\n",
       "      <th>55167</th>\n",
       "      <td>Mon Ami Gabi</td>\n",
       "      <td>4JNXUYY8wbaaDmk3BPzlWw</td>\n",
       "      <td>7968</td>\n",
       "      <td>Las Vegas</td>\n",
       "      <td>4.0</td>\n",
       "    </tr>\n",
       "    <tr>\n",
       "      <th>73721</th>\n",
       "      <td>Bacchanal Buffet</td>\n",
       "      <td>RESDUcs7fIiihp38-d6_6g</td>\n",
       "      <td>7866</td>\n",
       "      <td>Las Vegas</td>\n",
       "      <td>4.0</td>\n",
       "    </tr>\n",
       "    <tr>\n",
       "      <th>25326</th>\n",
       "      <td>Wicked Spoon</td>\n",
       "      <td>K7lWdNUhCbcnEvI0NhGewg</td>\n",
       "      <td>6446</td>\n",
       "      <td>Las Vegas</td>\n",
       "      <td>3.5</td>\n",
       "    </tr>\n",
       "    <tr>\n",
       "      <th>74923</th>\n",
       "      <td>Gordon Ramsay BurGR</td>\n",
       "      <td>cYwJA2A6I12KNkm2rtXd5g</td>\n",
       "      <td>5472</td>\n",
       "      <td>Las Vegas</td>\n",
       "      <td>4.0</td>\n",
       "    </tr>\n",
       "    <tr>\n",
       "      <th>67847</th>\n",
       "      <td>Hash House A Go Go</td>\n",
       "      <td>f4x1YBxkLrZg652xt2KR5g</td>\n",
       "      <td>5382</td>\n",
       "      <td>Las Vegas</td>\n",
       "      <td>4.0</td>\n",
       "    </tr>\n",
       "    <tr>\n",
       "      <th>70760</th>\n",
       "      <td>Earl of Sandwich</td>\n",
       "      <td>DkYS3arLOhA8si5uUEmHOw</td>\n",
       "      <td>4981</td>\n",
       "      <td>Las Vegas</td>\n",
       "      <td>4.5</td>\n",
       "    </tr>\n",
       "    <tr>\n",
       "      <th>72324</th>\n",
       "      <td>The Buffet</td>\n",
       "      <td>2weQS-RnoOBhb1KsHKyoSQ</td>\n",
       "      <td>4240</td>\n",
       "      <td>Las Vegas</td>\n",
       "      <td>3.5</td>\n",
       "    </tr>\n",
       "    <tr>\n",
       "      <th>54170</th>\n",
       "      <td>The Buffet at Bellagio</td>\n",
       "      <td>ujHiaprwCQ5ewziu0Vi9rw</td>\n",
       "      <td>4091</td>\n",
       "      <td>Las Vegas</td>\n",
       "      <td>3.5</td>\n",
       "    </tr>\n",
       "    <tr>\n",
       "      <th>72046</th>\n",
       "      <td>Secret Pizza</td>\n",
       "      <td>iCQpiavjjPzJ5_3gPD5Ebg</td>\n",
       "      <td>4078</td>\n",
       "      <td>Las Vegas</td>\n",
       "      <td>4.0</td>\n",
       "    </tr>\n",
       "    <tr>\n",
       "      <th>11739</th>\n",
       "      <td>Lotus of Siam</td>\n",
       "      <td>KskYqH1Bi7Z_61pH6Om8pg</td>\n",
       "      <td>3975</td>\n",
       "      <td>Las Vegas</td>\n",
       "      <td>4.0</td>\n",
       "    </tr>\n",
       "    <tr>\n",
       "      <th>73129</th>\n",
       "      <td>Serendipity 3</td>\n",
       "      <td>eoHdUeQDNgQ6WYEnP2aiRw</td>\n",
       "      <td>3905</td>\n",
       "      <td>Las Vegas</td>\n",
       "      <td>3.0</td>\n",
       "    </tr>\n",
       "    <tr>\n",
       "      <th>69817</th>\n",
       "      <td>Bouchon at the Venezia Tower</td>\n",
       "      <td>rcaPajgKOJC2vo_l3xa42A</td>\n",
       "      <td>3743</td>\n",
       "      <td>Las Vegas</td>\n",
       "      <td>4.0</td>\n",
       "    </tr>\n",
       "    <tr>\n",
       "      <th>39238</th>\n",
       "      <td>Gangnam Asian BBQ Dining</td>\n",
       "      <td>hihud--QRriCYZw1zZvW4g</td>\n",
       "      <td>3731</td>\n",
       "      <td>Las Vegas</td>\n",
       "      <td>4.5</td>\n",
       "    </tr>\n",
       "    <tr>\n",
       "      <th>56542</th>\n",
       "      <td>MGM Grand Hotel</td>\n",
       "      <td>El4FC8jcawUVgw_0EIcbaQ</td>\n",
       "      <td>3730</td>\n",
       "      <td>Las Vegas</td>\n",
       "      <td>3.0</td>\n",
       "    </tr>\n",
       "    <tr>\n",
       "      <th>49070</th>\n",
       "      <td>Bachi Burger</td>\n",
       "      <td>7sPNbCx7vGAaH7SbNPZ6oA</td>\n",
       "      <td>3250</td>\n",
       "      <td>Las Vegas</td>\n",
       "      <td>4.0</td>\n",
       "    </tr>\n",
       "    <tr>\n",
       "      <th>16845</th>\n",
       "      <td>Gordon Ramsay Steak</td>\n",
       "      <td>OETh78qcgDltvHULowwhJg</td>\n",
       "      <td>3244</td>\n",
       "      <td>Las Vegas</td>\n",
       "      <td>4.0</td>\n",
       "    </tr>\n",
       "    <tr>\n",
       "      <th>36486</th>\n",
       "      <td>Hash House A Go Go</td>\n",
       "      <td>g8OnV26ywJlZpezdBnOWUQ</td>\n",
       "      <td>3193</td>\n",
       "      <td>Las Vegas</td>\n",
       "      <td>4.0</td>\n",
       "    </tr>\n",
       "    <tr>\n",
       "      <th>46883</th>\n",
       "      <td>Mesa Grill</td>\n",
       "      <td>XZbuPXdyA0ZtTu3AzqtQhg</td>\n",
       "      <td>3160</td>\n",
       "      <td>Las Vegas</td>\n",
       "      <td>4.0</td>\n",
       "    </tr>\n",
       "    <tr>\n",
       "      <th>57778</th>\n",
       "      <td>The Peppermill Restaurant &amp; Fireside Lounge</td>\n",
       "      <td>XXW_OFaYQkkGOGniujZFHg</td>\n",
       "      <td>3048</td>\n",
       "      <td>Las Vegas</td>\n",
       "      <td>4.0</td>\n",
       "    </tr>\n",
       "    <tr>\n",
       "      <th>45522</th>\n",
       "      <td>Holsteins Shakes &amp; Buns</td>\n",
       "      <td>P7pxQFqr7yBKMMI2J51udw</td>\n",
       "      <td>3025</td>\n",
       "      <td>Las Vegas</td>\n",
       "      <td>4.0</td>\n",
       "    </tr>\n",
       "  </tbody>\n",
       "</table>\n",
       "</div>"
      ],
      "text/plain": [
       "                                              name             business_id  \\\n",
       "55167                                 Mon Ami Gabi  4JNXUYY8wbaaDmk3BPzlWw   \n",
       "73721                             Bacchanal Buffet  RESDUcs7fIiihp38-d6_6g   \n",
       "25326                                 Wicked Spoon  K7lWdNUhCbcnEvI0NhGewg   \n",
       "74923                          Gordon Ramsay BurGR  cYwJA2A6I12KNkm2rtXd5g   \n",
       "67847                           Hash House A Go Go  f4x1YBxkLrZg652xt2KR5g   \n",
       "70760                             Earl of Sandwich  DkYS3arLOhA8si5uUEmHOw   \n",
       "72324                                   The Buffet  2weQS-RnoOBhb1KsHKyoSQ   \n",
       "54170                       The Buffet at Bellagio  ujHiaprwCQ5ewziu0Vi9rw   \n",
       "72046                                 Secret Pizza  iCQpiavjjPzJ5_3gPD5Ebg   \n",
       "11739                                Lotus of Siam  KskYqH1Bi7Z_61pH6Om8pg   \n",
       "73129                                Serendipity 3  eoHdUeQDNgQ6WYEnP2aiRw   \n",
       "69817                 Bouchon at the Venezia Tower  rcaPajgKOJC2vo_l3xa42A   \n",
       "39238                     Gangnam Asian BBQ Dining  hihud--QRriCYZw1zZvW4g   \n",
       "56542                              MGM Grand Hotel  El4FC8jcawUVgw_0EIcbaQ   \n",
       "49070                                 Bachi Burger  7sPNbCx7vGAaH7SbNPZ6oA   \n",
       "16845                          Gordon Ramsay Steak  OETh78qcgDltvHULowwhJg   \n",
       "36486                           Hash House A Go Go  g8OnV26ywJlZpezdBnOWUQ   \n",
       "46883                                   Mesa Grill  XZbuPXdyA0ZtTu3AzqtQhg   \n",
       "57778  The Peppermill Restaurant & Fireside Lounge  XXW_OFaYQkkGOGniujZFHg   \n",
       "45522                      Holsteins Shakes & Buns  P7pxQFqr7yBKMMI2J51udw   \n",
       "\n",
       "       review_count       city  stars  \n",
       "55167          7968  Las Vegas    4.0  \n",
       "73721          7866  Las Vegas    4.0  \n",
       "25326          6446  Las Vegas    3.5  \n",
       "74923          5472  Las Vegas    4.0  \n",
       "67847          5382  Las Vegas    4.0  \n",
       "70760          4981  Las Vegas    4.5  \n",
       "72324          4240  Las Vegas    3.5  \n",
       "54170          4091  Las Vegas    3.5  \n",
       "72046          4078  Las Vegas    4.0  \n",
       "11739          3975  Las Vegas    4.0  \n",
       "73129          3905  Las Vegas    3.0  \n",
       "69817          3743  Las Vegas    4.0  \n",
       "39238          3731  Las Vegas    4.5  \n",
       "56542          3730  Las Vegas    3.0  \n",
       "49070          3250  Las Vegas    4.0  \n",
       "16845          3244  Las Vegas    4.0  \n",
       "36486          3193  Las Vegas    4.0  \n",
       "46883          3160  Las Vegas    4.0  \n",
       "57778          3048  Las Vegas    4.0  \n",
       "45522          3025  Las Vegas    4.0  "
      ]
     },
     "execution_count": 139,
     "metadata": {},
     "output_type": "execute_result"
    }
   ],
   "source": [
    "# Top restaurants by number of reviews\n",
    "\n",
    "restaurants[['name', 'business_id','review_count', 'city', 'stars']].sort_values(ascending=False, by=\"review_count\")[0:20]"
   ]
  },
  {
   "cell_type": "markdown",
   "metadata": {},
   "source": [
    "# 3. Feature Selection"
   ]
  },
  {
   "cell_type": "markdown",
   "metadata": {},
   "source": [
    "## 3.0 We hypothesize that the following features are important"
   ]
  },
  {
   "cell_type": "markdown",
   "metadata": {},
   "source": [
    "Review and User-related features\n",
    "\n",
    "1. Review Count\n",
    "2. Star Rating\n",
    "3. Number of users who wrote reviews\n",
    "4. Maximum number of stars\n",
    "5. Minimum number of stars\n",
    "6. Number of reviews voted as 'cool'\n",
    "7. Number of reviews voted as 'funny'\n",
    "8. Number of reviews voted as 'useful'\n",
    "9. Time since first/last reviews\n",
    "10. Time between first and last reviews\n",
    "11. Max number of review in a single day\n"
   ]
  },
  {
   "cell_type": "markdown",
   "metadata": {},
   "source": [
    "Business Attributes Feature:\n",
    "    \n",
    "1. Hours\n",
    "2. Categories\n",
    "3. Business Parking\n",
    "4. Restaurant Reservations\n",
    "5. Good for Kids\n",
    "6. Smoking\n",
    "7. Good for Meal\n",
    "8. Noise Level\n",
    "9. Music\n",
    "10. Ages Allowed\n",
    "11. Restaurants Good for Groups\n",
    "12. WiFi\n",
    "13. Business Accepts Credit Cards\n",
    "14. Ambience\n",
    "15. Restaurant Price Range\n",
    "16. Happy Hour\n",
    "17. Outdoors Seating"
   ]
  },
  {
   "cell_type": "code",
   "execution_count": 27,
   "metadata": {},
   "outputs": [
    {
     "data": {
      "text/plain": [
       "Index(['hours.Friday', 'attributes.RestaurantsAttire',\n",
       "       'attributes.BikeParking', 'state', 'categories',\n",
       "       'attributes.BusinessParking', 'attributes.Alcohol',\n",
       "       'attributes.GoodForDancing', 'attributes.BYOB',\n",
       "       'attributes.DietaryRestrictions', 'attributes.RestaurantsReservations',\n",
       "       'attributes.GoodForKids', 'attributes.Smoking', 'hours.Sunday',\n",
       "       'attributes.BYOBCorkage', 'latitude',\n",
       "       'attributes.BusinessAcceptsBitcoin', 'attributes.GoodForMeal',\n",
       "       'attributes.BestNights', 'attributes.NoiseLevel', 'attributes.Corkage',\n",
       "       'attributes.Music', 'hours.Wednesday', 'attributes.Open24Hours',\n",
       "       'longitude', 'neighborhood', 'attributes.HairSpecializesIn',\n",
       "       'hours.Thursday', 'attributes.AgesAllowed',\n",
       "       'attributes.ByAppointmentOnly', 'business_id',\n",
       "       'attributes.RestaurantsDelivery', 'attributes.RestaurantsGoodForGroups',\n",
       "       'postal_code', 'attributes.RestaurantsTableService', 'attributes.WiFi',\n",
       "       'hours', 'attributes.DogsAllowed', 'review_count', 'name',\n",
       "       'attributes.BusinessAcceptsCreditCards', 'hours.Saturday',\n",
       "       'attributes.Ambience', 'attributes.RestaurantsCounterService',\n",
       "       'attributes.DriveThru', 'attributes.Caters', 'address',\n",
       "       'attributes.RestaurantsPriceRange2', 'attributes.RestaurantsTakeOut',\n",
       "       'hours.Tuesday', 'attributes.WheelchairAccessible', 'attributes.HasTV',\n",
       "       'attributes.HappyHour', 'hours.Monday', 'attributes.CoatCheck',\n",
       "       'attributes.OutdoorSeating', 'is_open', 'attributes.AcceptsInsurance',\n",
       "       'attributes', 'stars', 'city', 'country'],\n",
       "      dtype='object')"
      ]
     },
     "execution_count": 27,
     "metadata": {},
     "output_type": "execute_result"
    }
   ],
   "source": [
    "col = restaurants.columns\n",
    "col"
   ]
  },
  {
   "cell_type": "markdown",
   "metadata": {},
   "source": [
    "## 3.1 Merge Restaurants with Users and Reviews"
   ]
  },
  {
   "cell_type": "code",
   "execution_count": 28,
   "metadata": {},
   "outputs": [],
   "source": [
    "#importing the yelp reviews dataset\n",
    "datastr=open('yelp_academic_dataset_review.json','r')\n",
    "datajson=datastr.readlines()\n",
    "check=[json.loads(x) for x in datajson]\n",
    "ind=range(0,len(check))\n",
    "reviews=pd.DataFrame(check,index=ind,columns=check[0].keys())"
   ]
  },
  {
   "cell_type": "code",
   "execution_count": 29,
   "metadata": {},
   "outputs": [
    {
     "data": {
      "text/plain": [
       "Index(['review_id', 'user_id', 'business_id', 'stars', 'date', 'text',\n",
       "       'useful', 'funny', 'cool'],\n",
       "      dtype='object')"
      ]
     },
     "execution_count": 29,
     "metadata": {},
     "output_type": "execute_result"
    }
   ],
   "source": [
    "reviews.columns"
   ]
  },
  {
   "cell_type": "code",
   "execution_count": 30,
   "metadata": {},
   "outputs": [],
   "source": [
    "restaurant_reviews = reviews[reviews[\"business_id\"].isin(restaurants[\"business_id\"])]"
   ]
  },
  {
   "cell_type": "code",
   "execution_count": 31,
   "metadata": {},
   "outputs": [],
   "source": [
    "# User counts, max and min ratings\n",
    "user_rating_count = restaurant_reviews[['user_id','business_id']].groupby(['business_id']).count()\n",
    "user_rating_count = user_rating_count.rename(columns = {'business_id':'user_rating_count'})\n",
    "max_rating_restaurant = restaurant_reviews[['business_id','stars']].groupby(['business_id']).max()\n",
    "max_rating_restaurant = max_rating_restaurant.rename(columns = {'stars':'max_rating_rest'})\n",
    "min_rating_restaurant = restaurant_reviews[['business_id','stars']].groupby(['business_id']).min()\n",
    "min_rating_restaurant = min_rating_restaurant.rename(columns = {'stars':'min_rating_rest'})"
   ]
  },
  {
   "cell_type": "code",
   "execution_count": 32,
   "metadata": {},
   "outputs": [],
   "source": [
    "# Useful, funny, cool\n",
    "useful_mean = restaurant_reviews[['business_id','useful']].groupby(['business_id']).mean()\n",
    "useful_mean = useful_mean.rename(columns = {'business_id':'useful_mean'})\n",
    "funny_mean = restaurant_reviews[['business_id','funny']].groupby(['business_id']).mean()\n",
    "funny_mean = funny_mean.rename(columns = {'business_id':'funny_mean'})\n",
    "cool_mean = restaurant_reviews[['business_id','cool']].groupby(['business_id']).mean()\n",
    "cool_mean = cool_mean.rename(columns = {'business_id':'cool_mean'})"
   ]
  },
  {
   "cell_type": "code",
   "execution_count": 231,
   "metadata": {},
   "outputs": [],
   "source": [
    "restaurants = restaurants.merge(max_rating_restaurant, how = 'left', on = 'business_id')\n",
    "restaurants = restaurants.merge(min_rating_restaurant, how = 'left', on = 'business_id')\n",
    "restaurants = restaurants.merge(useful_mean, how = 'left', on = 'business_id')\n",
    "restaurants = restaurants.merge(funny_mean, how = 'left', on = 'business_id')\n",
    "restaurants = restaurants.merge(cool_mean, how = 'left', on = 'business_id')"
   ]
  },
  {
   "cell_type": "code",
   "execution_count": 36,
   "metadata": {},
   "outputs": [
    {
     "data": {
      "text/html": [
       "<div>\n",
       "<style scoped>\n",
       "    .dataframe tbody tr th:only-of-type {\n",
       "        vertical-align: middle;\n",
       "    }\n",
       "\n",
       "    .dataframe tbody tr th {\n",
       "        vertical-align: top;\n",
       "    }\n",
       "\n",
       "    .dataframe thead th {\n",
       "        text-align: right;\n",
       "    }\n",
       "</style>\n",
       "<table border=\"1\" class=\"dataframe\">\n",
       "  <thead>\n",
       "    <tr style=\"text-align: right;\">\n",
       "      <th></th>\n",
       "      <th>hours.Friday</th>\n",
       "      <th>attributes.RestaurantsAttire</th>\n",
       "      <th>attributes.BikeParking</th>\n",
       "      <th>state</th>\n",
       "      <th>categories</th>\n",
       "      <th>attributes.BusinessParking</th>\n",
       "      <th>attributes.Alcohol</th>\n",
       "      <th>attributes.GoodForDancing</th>\n",
       "      <th>attributes.BYOB</th>\n",
       "      <th>attributes.DietaryRestrictions</th>\n",
       "      <th>...</th>\n",
       "      <th>attributes.AcceptsInsurance</th>\n",
       "      <th>attributes</th>\n",
       "      <th>stars</th>\n",
       "      <th>city</th>\n",
       "      <th>country</th>\n",
       "      <th>max_rating_rest</th>\n",
       "      <th>min_rating_rest</th>\n",
       "      <th>useful</th>\n",
       "      <th>funny</th>\n",
       "      <th>cool</th>\n",
       "    </tr>\n",
       "  </thead>\n",
       "  <tbody>\n",
       "    <tr>\n",
       "      <th>0</th>\n",
       "      <td>11:0-21:0</td>\n",
       "      <td>casual</td>\n",
       "      <td>False</td>\n",
       "      <td>AB</td>\n",
       "      <td>Tours, Breweries, Pizza, Restaurants, Food, Ho...</td>\n",
       "      <td>{'garage': False, 'street': True, 'validated':...</td>\n",
       "      <td>NaN</td>\n",
       "      <td>NaN</td>\n",
       "      <td>NaN</td>\n",
       "      <td>NaN</td>\n",
       "      <td>...</td>\n",
       "      <td>NaN</td>\n",
       "      <td>{'BikeParking': 'False', 'BusinessAcceptsCredi...</td>\n",
       "      <td>4.0</td>\n",
       "      <td>Calgary</td>\n",
       "      <td>Canada</td>\n",
       "      <td>5</td>\n",
       "      <td>1</td>\n",
       "      <td>0.541667</td>\n",
       "      <td>0.250000</td>\n",
       "      <td>0.208333</td>\n",
       "    </tr>\n",
       "    <tr>\n",
       "      <th>1</th>\n",
       "      <td>17:0-23:0</td>\n",
       "      <td>casual</td>\n",
       "      <td>False</td>\n",
       "      <td>NV</td>\n",
       "      <td>Chicken Wings, Burgers, Caterers, Street Vendo...</td>\n",
       "      <td>{'garage': False, 'street': True, 'validated':...</td>\n",
       "      <td>none</td>\n",
       "      <td>NaN</td>\n",
       "      <td>NaN</td>\n",
       "      <td>NaN</td>\n",
       "      <td>...</td>\n",
       "      <td>NaN</td>\n",
       "      <td>{'Alcohol': 'none', 'BikeParking': 'False', 'B...</td>\n",
       "      <td>4.5</td>\n",
       "      <td>Henderson</td>\n",
       "      <td>USA</td>\n",
       "      <td>5</td>\n",
       "      <td>4</td>\n",
       "      <td>0.333333</td>\n",
       "      <td>0.000000</td>\n",
       "      <td>0.333333</td>\n",
       "    </tr>\n",
       "    <tr>\n",
       "      <th>2</th>\n",
       "      <td>10:0-22:0</td>\n",
       "      <td>casual</td>\n",
       "      <td>True</td>\n",
       "      <td>QC</td>\n",
       "      <td>Breakfast &amp; Brunch, Restaurants, French, Sandw...</td>\n",
       "      <td>{'garage': False, 'street': False, 'validated'...</td>\n",
       "      <td>beer_and_wine</td>\n",
       "      <td>NaN</td>\n",
       "      <td>NaN</td>\n",
       "      <td>NaN</td>\n",
       "      <td>...</td>\n",
       "      <td>NaN</td>\n",
       "      <td>{'Alcohol': 'beer_and_wine', 'Ambience': \"{'ro...</td>\n",
       "      <td>4.0</td>\n",
       "      <td>Montréal</td>\n",
       "      <td>Canada</td>\n",
       "      <td>5</td>\n",
       "      <td>1</td>\n",
       "      <td>0.200000</td>\n",
       "      <td>0.000000</td>\n",
       "      <td>0.400000</td>\n",
       "    </tr>\n",
       "    <tr>\n",
       "      <th>3</th>\n",
       "      <td>5:30-21:0</td>\n",
       "      <td>NaN</td>\n",
       "      <td>True</td>\n",
       "      <td>AZ</td>\n",
       "      <td>Coffee &amp; Tea, Food</td>\n",
       "      <td>{'garage': False, 'street': False, 'validated'...</td>\n",
       "      <td>NaN</td>\n",
       "      <td>NaN</td>\n",
       "      <td>NaN</td>\n",
       "      <td>NaN</td>\n",
       "      <td>...</td>\n",
       "      <td>NaN</td>\n",
       "      <td>{'BikeParking': 'True', 'BusinessAcceptsCredit...</td>\n",
       "      <td>4.0</td>\n",
       "      <td>Phoenix</td>\n",
       "      <td>USA</td>\n",
       "      <td>5</td>\n",
       "      <td>1</td>\n",
       "      <td>0.935484</td>\n",
       "      <td>0.548387</td>\n",
       "      <td>0.629032</td>\n",
       "    </tr>\n",
       "    <tr>\n",
       "      <th>4</th>\n",
       "      <td>NaN</td>\n",
       "      <td>NaN</td>\n",
       "      <td>NaN</td>\n",
       "      <td>ON</td>\n",
       "      <td>Food, Bakeries</td>\n",
       "      <td>{'garage': False, 'street': False, 'validated'...</td>\n",
       "      <td>NaN</td>\n",
       "      <td>NaN</td>\n",
       "      <td>NaN</td>\n",
       "      <td>NaN</td>\n",
       "      <td>...</td>\n",
       "      <td>NaN</td>\n",
       "      <td>{'BusinessParking': \"{'garage': False, 'street...</td>\n",
       "      <td>4.0</td>\n",
       "      <td>Toronto</td>\n",
       "      <td>Canada</td>\n",
       "      <td>5</td>\n",
       "      <td>3</td>\n",
       "      <td>1.142857</td>\n",
       "      <td>1.142857</td>\n",
       "      <td>1.285714</td>\n",
       "    </tr>\n",
       "  </tbody>\n",
       "</table>\n",
       "<p>5 rows × 67 columns</p>\n",
       "</div>"
      ],
      "text/plain": [
       "  hours.Friday attributes.RestaurantsAttire attributes.BikeParking state  \\\n",
       "0    11:0-21:0                       casual                  False    AB   \n",
       "1    17:0-23:0                       casual                  False    NV   \n",
       "2    10:0-22:0                       casual                   True    QC   \n",
       "3    5:30-21:0                          NaN                   True    AZ   \n",
       "4          NaN                          NaN                    NaN    ON   \n",
       "\n",
       "                                          categories  \\\n",
       "0  Tours, Breweries, Pizza, Restaurants, Food, Ho...   \n",
       "1  Chicken Wings, Burgers, Caterers, Street Vendo...   \n",
       "2  Breakfast & Brunch, Restaurants, French, Sandw...   \n",
       "3                                 Coffee & Tea, Food   \n",
       "4                                     Food, Bakeries   \n",
       "\n",
       "                          attributes.BusinessParking attributes.Alcohol  \\\n",
       "0  {'garage': False, 'street': True, 'validated':...                NaN   \n",
       "1  {'garage': False, 'street': True, 'validated':...               none   \n",
       "2  {'garage': False, 'street': False, 'validated'...      beer_and_wine   \n",
       "3  {'garage': False, 'street': False, 'validated'...                NaN   \n",
       "4  {'garage': False, 'street': False, 'validated'...                NaN   \n",
       "\n",
       "  attributes.GoodForDancing attributes.BYOB attributes.DietaryRestrictions  \\\n",
       "0                       NaN             NaN                            NaN   \n",
       "1                       NaN             NaN                            NaN   \n",
       "2                       NaN             NaN                            NaN   \n",
       "3                       NaN             NaN                            NaN   \n",
       "4                       NaN             NaN                            NaN   \n",
       "\n",
       "     ...    attributes.AcceptsInsurance  \\\n",
       "0    ...                            NaN   \n",
       "1    ...                            NaN   \n",
       "2    ...                            NaN   \n",
       "3    ...                            NaN   \n",
       "4    ...                            NaN   \n",
       "\n",
       "                                          attributes stars       city country  \\\n",
       "0  {'BikeParking': 'False', 'BusinessAcceptsCredi...   4.0    Calgary  Canada   \n",
       "1  {'Alcohol': 'none', 'BikeParking': 'False', 'B...   4.5  Henderson     USA   \n",
       "2  {'Alcohol': 'beer_and_wine', 'Ambience': \"{'ro...   4.0   Montréal  Canada   \n",
       "3  {'BikeParking': 'True', 'BusinessAcceptsCredit...   4.0    Phoenix     USA   \n",
       "4  {'BusinessParking': \"{'garage': False, 'street...   4.0    Toronto  Canada   \n",
       "\n",
       "   max_rating_rest min_rating_rest    useful     funny      cool  \n",
       "0                5               1  0.541667  0.250000  0.208333  \n",
       "1                5               4  0.333333  0.000000  0.333333  \n",
       "2                5               1  0.200000  0.000000  0.400000  \n",
       "3                5               1  0.935484  0.548387  0.629032  \n",
       "4                5               3  1.142857  1.142857  1.285714  \n",
       "\n",
       "[5 rows x 67 columns]"
      ]
     },
     "execution_count": 36,
     "metadata": {},
     "output_type": "execute_result"
    }
   ],
   "source": [
    "restaurants.head()"
   ]
  },
  {
   "cell_type": "markdown",
   "metadata": {},
   "source": [
    "### 3.1.2 Time-bound features"
   ]
  },
  {
   "cell_type": "code",
   "execution_count": 158,
   "metadata": {},
   "outputs": [],
   "source": [
    "reviews_date = reviews[['business_id','date']]"
   ]
  },
  {
   "cell_type": "code",
   "execution_count": 165,
   "metadata": {},
   "outputs": [
    {
     "name": "stderr",
     "output_type": "stream",
     "text": [
      "/usr/local/lib/python3.6/site-packages/pandas/core/generic.py:4405: SettingWithCopyWarning: \n",
      "A value is trying to be set on a copy of a slice from a DataFrame.\n",
      "Try using .loc[row_indexer,col_indexer] = value instead\n",
      "\n",
      "See the caveats in the documentation: http://pandas.pydata.org/pandas-docs/stable/indexing.html#indexing-view-versus-copy\n",
      "  self[name] = value\n"
     ]
    }
   ],
   "source": [
    "reviews_date.date = pd.to_datetime(reviews_date.date)"
   ]
  },
  {
   "cell_type": "code",
   "execution_count": 176,
   "metadata": {},
   "outputs": [],
   "source": [
    "reviews_date_earliest = reviews_date.groupby('business_id')['date'].min()"
   ]
  },
  {
   "cell_type": "code",
   "execution_count": 179,
   "metadata": {},
   "outputs": [],
   "source": [
    "reviews_date_earliest = reviews_date_earliest.to_frame()"
   ]
  },
  {
   "cell_type": "code",
   "execution_count": 180,
   "metadata": {},
   "outputs": [],
   "source": [
    "reviews_date_latest = reviews_date.groupby('business_id')['date'].max()\n",
    "reviews_date_latest = reviews_date_latest.to_frame()"
   ]
  },
  {
   "cell_type": "code",
   "execution_count": 182,
   "metadata": {},
   "outputs": [],
   "source": [
    "reviews_date = reviews_date_earliest.merge(reviews_date_latest, how = 'outer', on = 'business_id') "
   ]
  },
  {
   "cell_type": "code",
   "execution_count": 186,
   "metadata": {},
   "outputs": [],
   "source": [
    "reviews_date = reviews_date.rename(index=str, columns={\"date_x\": \"earliest_review_date\", \"date_y\": \"latest_review_date\"})"
   ]
  },
  {
   "cell_type": "code",
   "execution_count": 189,
   "metadata": {},
   "outputs": [],
   "source": [
    "reviews_date['date_difference'] = reviews_date['latest_review_date'] - reviews_date['earliest_review_date'] "
   ]
  },
  {
   "cell_type": "code",
   "execution_count": 199,
   "metadata": {},
   "outputs": [],
   "source": [
    "from datetime import datetime\n",
    "reviews_date['earliest_till_now'] = datetime.today() - reviews_date['earliest_review_date']\n",
    "reviews_date['latest_till_now'] = datetime.today() - reviews_date['latest_review_date']"
   ]
  },
  {
   "cell_type": "code",
   "execution_count": null,
   "metadata": {},
   "outputs": [],
   "source": [
    "reviews_date['earliest_till_now'] = reviews_date['earliest_till_now'].astype('timedelta64[D]')"
   ]
  },
  {
   "cell_type": "code",
   "execution_count": 209,
   "metadata": {},
   "outputs": [],
   "source": [
    "reviews_date['latest_till_now'] = reviews_date['latest_till_now'].astype('timedelta64[D]')\n",
    "reviews_date['date_difference'] = reviews_date['date_difference'].astype('timedelta64[D]')"
   ]
  },
  {
   "cell_type": "code",
   "execution_count": 210,
   "metadata": {},
   "outputs": [
    {
     "data": {
      "text/html": [
       "<div>\n",
       "<style scoped>\n",
       "    .dataframe tbody tr th:only-of-type {\n",
       "        vertical-align: middle;\n",
       "    }\n",
       "\n",
       "    .dataframe tbody tr th {\n",
       "        vertical-align: top;\n",
       "    }\n",
       "\n",
       "    .dataframe thead th {\n",
       "        text-align: right;\n",
       "    }\n",
       "</style>\n",
       "<table border=\"1\" class=\"dataframe\">\n",
       "  <thead>\n",
       "    <tr style=\"text-align: right;\">\n",
       "      <th></th>\n",
       "      <th>earliest_review_date</th>\n",
       "      <th>latest_review_date</th>\n",
       "      <th>date_difference</th>\n",
       "      <th>earliest_till_now</th>\n",
       "      <th>latest_till_now</th>\n",
       "    </tr>\n",
       "    <tr>\n",
       "      <th>business_id</th>\n",
       "      <th></th>\n",
       "      <th></th>\n",
       "      <th></th>\n",
       "      <th></th>\n",
       "      <th></th>\n",
       "    </tr>\n",
       "  </thead>\n",
       "  <tbody>\n",
       "    <tr>\n",
       "      <th>--1UhMGODdWsrMastO9DZw</th>\n",
       "      <td>2016-06-04</td>\n",
       "      <td>2018-05-06</td>\n",
       "      <td>701.0</td>\n",
       "      <td>910.0</td>\n",
       "      <td>209.0</td>\n",
       "    </tr>\n",
       "    <tr>\n",
       "      <th>--6MefnULPED_I942VcFNA</th>\n",
       "      <td>2008-08-07</td>\n",
       "      <td>2018-05-21</td>\n",
       "      <td>3574.0</td>\n",
       "      <td>3768.0</td>\n",
       "      <td>194.0</td>\n",
       "    </tr>\n",
       "    <tr>\n",
       "      <th>--7zmmkVg-IMGaXbuVd0SQ</th>\n",
       "      <td>2014-12-30</td>\n",
       "      <td>2018-06-01</td>\n",
       "      <td>1249.0</td>\n",
       "      <td>1432.0</td>\n",
       "      <td>183.0</td>\n",
       "    </tr>\n",
       "    <tr>\n",
       "      <th>--8LPVSo5i0Oo61X01sV9A</th>\n",
       "      <td>2014-05-15</td>\n",
       "      <td>2018-02-10</td>\n",
       "      <td>1367.0</td>\n",
       "      <td>1661.0</td>\n",
       "      <td>294.0</td>\n",
       "    </tr>\n",
       "    <tr>\n",
       "      <th>--9QQLMTbFzLJ_oT-ON3Xw</th>\n",
       "      <td>2013-05-15</td>\n",
       "      <td>2018-02-17</td>\n",
       "      <td>1739.0</td>\n",
       "      <td>2026.0</td>\n",
       "      <td>287.0</td>\n",
       "    </tr>\n",
       "  </tbody>\n",
       "</table>\n",
       "</div>"
      ],
      "text/plain": [
       "                       earliest_review_date latest_review_date  \\\n",
       "business_id                                                      \n",
       "--1UhMGODdWsrMastO9DZw           2016-06-04         2018-05-06   \n",
       "--6MefnULPED_I942VcFNA           2008-08-07         2018-05-21   \n",
       "--7zmmkVg-IMGaXbuVd0SQ           2014-12-30         2018-06-01   \n",
       "--8LPVSo5i0Oo61X01sV9A           2014-05-15         2018-02-10   \n",
       "--9QQLMTbFzLJ_oT-ON3Xw           2013-05-15         2018-02-17   \n",
       "\n",
       "                        date_difference  earliest_till_now  latest_till_now  \n",
       "business_id                                                                  \n",
       "--1UhMGODdWsrMastO9DZw            701.0              910.0            209.0  \n",
       "--6MefnULPED_I942VcFNA           3574.0             3768.0            194.0  \n",
       "--7zmmkVg-IMGaXbuVd0SQ           1249.0             1432.0            183.0  \n",
       "--8LPVSo5i0Oo61X01sV9A           1367.0             1661.0            294.0  \n",
       "--9QQLMTbFzLJ_oT-ON3Xw           1739.0             2026.0            287.0  "
      ]
     },
     "execution_count": 210,
     "metadata": {},
     "output_type": "execute_result"
    }
   ],
   "source": [
    "reviews_date.head()"
   ]
  },
  {
   "cell_type": "code",
   "execution_count": 232,
   "metadata": {},
   "outputs": [],
   "source": [
    "restaurants = restaurants.merge(reviews_date, how = 'left', on = 'business_id')"
   ]
  },
  {
   "cell_type": "markdown",
   "metadata": {},
   "source": [
    "## 3.2 Ambience"
   ]
  },
  {
   "cell_type": "code",
   "execution_count": 212,
   "metadata": {
    "scrolled": true
   },
   "outputs": [
    {
     "data": {
      "text/plain": [
       "array([nan,\n",
       "       \"{'romantic': False, 'intimate': False, 'classy': False, 'hipster': False, 'touristy': False, 'trendy': False, 'upscale': False, 'casual': False}\",\n",
       "       \"{'romantic': False, 'intimate': False, 'classy': False, 'hipster': False, 'divey': False, 'touristy': False, 'trendy': False, 'upscale': False, 'casual': True}\",\n",
       "       \"{'romantic': False, 'intimate': False, 'classy': False, 'hipster': False, 'divey': False, 'touristy': False, 'trendy': False, 'upscale': False, 'casual': False}\",\n",
       "       \"{'romantic': False, 'intimate': False, 'classy': False, 'hipster': False, 'divey': True, 'touristy': False, 'trendy': False, 'upscale': False, 'casual': False}\",\n",
       "       \"{'romantic': False, 'intimate': False, 'classy': False, 'hipster': False, 'touristy': False, 'trendy': False, 'upscale': False, 'casual': True}\",\n",
       "       \"{'romantic': False, 'intimate': False, 'classy': False, 'hipster': False, 'touristy': False, 'trendy': True, 'upscale': False, 'casual': False}\",\n",
       "       \"{'romantic': False, 'intimate': False, 'classy': True, 'hipster': False, 'divey': False, 'touristy': False, 'trendy': True, 'upscale': True, 'casual': False}\",\n",
       "       \"{'romantic': False, 'intimate': False, 'classy': False, 'hipster': False, 'divey': False, 'touristy': True, 'trendy': False, 'upscale': False, 'casual': False}\",\n",
       "       \"{'romantic': False, 'intimate': False, 'classy': True, 'hipster': False, 'touristy': False, 'trendy': False, 'upscale': False, 'casual': False}\",\n",
       "       \"{'romantic': False, 'intimate': True, 'classy': False, 'hipster': False, 'divey': False, 'touristy': False, 'trendy': False, 'upscale': False, 'casual': False}\",\n",
       "       \"{'romantic': False, 'intimate': False, 'classy': True, 'hipster': False, 'divey': False, 'touristy': False, 'trendy': False, 'upscale': True, 'casual': False}\",\n",
       "       \"{'romantic': False, 'intimate': False, 'classy': False, 'hipster': True, 'touristy': False, 'trendy': False, 'upscale': False, 'casual': False}\",\n",
       "       \"{'romantic': False, 'intimate': True, 'classy': False, 'hipster': False, 'touristy': False, 'trendy': False, 'upscale': False, 'casual': False}\",\n",
       "       \"{'romantic': False, 'intimate': False, 'classy': False, 'hipster': True, 'touristy': False, 'trendy': False, 'upscale': False, 'casual': True}\",\n",
       "       \"{'romantic': False, 'intimate': False, 'classy': False, 'hipster': False, 'divey': False, 'touristy': False, 'trendy': True, 'upscale': False, 'casual': False}\",\n",
       "       \"{'romantic': False, 'intimate': False, 'classy': True, 'hipster': False, 'divey': False, 'touristy': False, 'trendy': False, 'upscale': False, 'casual': False}\",\n",
       "       \"{'romantic': False, 'intimate': False, 'classy': False, 'hipster': False, 'touristy': False, 'trendy': True, 'upscale': False, 'casual': True}\",\n",
       "       \"{'romantic': False, 'intimate': False, 'classy': False, 'hipster': False, 'divey': False, 'touristy': False, 'trendy': True, 'upscale': False, 'casual': True}\",\n",
       "       \"{'romantic': False, 'intimate': False, 'classy': False, 'hipster': True, 'divey': False, 'touristy': False, 'trendy': False, 'upscale': False, 'casual': True}\",\n",
       "       \"{'romantic': False, 'intimate': False, 'classy': False, 'hipster': False, 'divey': False, 'touristy': False, 'trendy': True, 'upscale': True, 'casual': False}\",\n",
       "       \"{'romantic': False, 'intimate': True, 'classy': True, 'hipster': False, 'touristy': False, 'trendy': False, 'upscale': False, 'casual': False}\",\n",
       "       \"{'romantic': False, 'intimate': False, 'classy': True, 'hipster': False, 'touristy': False, 'trendy': True, 'upscale': True, 'casual': False}\",\n",
       "       \"{'romantic': False, 'intimate': False, 'classy': False, 'hipster': True, 'divey': False, 'touristy': False, 'trendy': True, 'upscale': False, 'casual': False}\",\n",
       "       \"{'romantic': False, 'intimate': False, 'classy': False, 'hipster': False, 'divey': True, 'touristy': False, 'trendy': False, 'upscale': False, 'casual': True}\",\n",
       "       \"{'romantic': False, 'intimate': False, 'classy': False, 'hipster': False, 'touristy': True, 'trendy': False, 'upscale': False, 'casual': True}\",\n",
       "       \"{'romantic': True, 'intimate': False, 'classy': False, 'hipster': False, 'touristy': False, 'trendy': False, 'upscale': False, 'casual': False}\",\n",
       "       \"{'romantic': True, 'intimate': True, 'classy': False, 'hipster': False, 'divey': False, 'touristy': False, 'trendy': False, 'upscale': False, 'casual': False}\",\n",
       "       \"{'romantic': False, 'intimate': False, 'classy': False, 'hipster': True, 'divey': False, 'touristy': False, 'trendy': False, 'upscale': False, 'casual': False}\",\n",
       "       \"{'romantic': True, 'intimate': False, 'classy': True, 'hipster': False, 'touristy': False, 'trendy': False, 'upscale': False, 'casual': False}\",\n",
       "       \"{'romantic': True, 'intimate': True, 'classy': True, 'hipster': True, 'divey': False, 'touristy': False, 'trendy': True, 'upscale': False, 'casual': True}\",\n",
       "       \"{'romantic': True, 'intimate': False, 'classy': False, 'hipster': False, 'divey': False, 'touristy': False, 'trendy': False, 'upscale': True, 'casual': True}\",\n",
       "       \"{'romantic': False, 'intimate': False, 'classy': True, 'hipster': False, 'divey': False, 'touristy': False, 'trendy': True, 'upscale': False, 'casual': False}\",\n",
       "       \"{'romantic': False, 'intimate': False, 'classy': False, 'hipster': False, 'divey': False, 'touristy': True, 'trendy': False, 'upscale': False, 'casual': True}\",\n",
       "       \"{'romantic': True, 'intimate': False, 'classy': True, 'hipster': False, 'divey': False, 'touristy': False, 'trendy': True, 'upscale': False, 'casual': False}\",\n",
       "       \"{'romantic': False, 'intimate': False, 'classy': False, 'hipster': True, 'divey': False, 'touristy': False, 'trendy': True, 'upscale': False, 'casual': True}\",\n",
       "       \"{'romantic': False, 'intimate': False, 'classy': False, 'hipster': False, 'touristy': False, 'trendy': False, 'upscale': True, 'casual': False}\",\n",
       "       \"{'romantic': True, 'intimate': False, 'classy': False, 'hipster': False, 'divey': False, 'touristy': False, 'trendy': False, 'upscale': False, 'casual': False}\",\n",
       "       \"{'romantic': False, 'intimate': False, 'classy': True, 'hipster': False, 'divey': False, 'touristy': False, 'trendy': False, 'upscale': True, 'casual': True}\",\n",
       "       \"{'romantic': False, 'intimate': True, 'classy': True, 'hipster': False, 'divey': False, 'touristy': False, 'trendy': True, 'upscale': False, 'casual': True}\",\n",
       "       \"{'romantic': False, 'intimate': True, 'classy': True, 'hipster': False, 'divey': False, 'touristy': False, 'trendy': False, 'upscale': False, 'casual': False}\",\n",
       "       \"{'romantic': False, 'intimate': False, 'classy': True, 'hipster': False, 'divey': False, 'touristy': False, 'trendy': True, 'upscale': False, 'casual': True}\",\n",
       "       \"{'romantic': False, 'intimate': False, 'classy': False, 'hipster': True, 'touristy': False, 'trendy': True, 'upscale': False, 'casual': True}\",\n",
       "       \"{'romantic': False, 'intimate': True, 'classy': False, 'hipster': False, 'touristy': False, 'trendy': True, 'upscale': False, 'casual': True}\",\n",
       "       \"{'romantic': False, 'intimate': False, 'classy': False, 'hipster': False, 'divey': False, 'touristy': False, 'trendy': False, 'upscale': True, 'casual': True}\",\n",
       "       \"{'romantic': False, 'intimate': False, 'classy': False, 'hipster': False, 'divey': False, 'touristy': False, 'trendy': False, 'upscale': True, 'casual': False}\",\n",
       "       \"{'romantic': False, 'intimate': False, 'classy': False, 'hipster': True, 'touristy': False, 'trendy': True, 'upscale': False, 'casual': False}\",\n",
       "       \"{'romantic': False, 'intimate': False, 'classy': True, 'hipster': True, 'divey': False, 'touristy': False, 'trendy': True, 'upscale': True, 'casual': True}\",\n",
       "       \"{'romantic': False, 'intimate': False, 'classy': True, 'hipster': False, 'touristy': False, 'trendy': False, 'upscale': True, 'casual': False}\",\n",
       "       \"{'romantic': False, 'intimate': True, 'classy': False, 'hipster': True, 'divey': False, 'touristy': False, 'trendy': False, 'upscale': False, 'casual': True}\",\n",
       "       \"{'romantic': True, 'intimate': False, 'classy': False, 'hipster': False, 'touristy': False, 'trendy': False, 'upscale': False, 'casual': True}\",\n",
       "       \"{'romantic': False, 'intimate': True, 'classy': False, 'hipster': False, 'divey': False, 'touristy': False, 'trendy': False, 'upscale': False, 'casual': True}\",\n",
       "       \"{'romantic': True, 'intimate': True, 'classy': True, 'hipster': False, 'divey': False, 'touristy': False, 'trendy': False, 'upscale': False, 'casual': False}\",\n",
       "       \"{'romantic': False, 'intimate': False, 'classy': True, 'hipster': False, 'divey': False, 'touristy': False, 'trendy': False, 'upscale': False, 'casual': True}\",\n",
       "       \"{'romantic': False, 'intimate': True, 'classy': False, 'hipster': False, 'divey': False, 'touristy': False, 'trendy': True, 'upscale': False, 'casual': True}\",\n",
       "       \"{'romantic': True, 'intimate': False, 'classy': True, 'hipster': False, 'touristy': False, 'trendy': False, 'upscale': True, 'casual': False}\",\n",
       "       \"{'romantic': True, 'intimate': True, 'classy': True, 'hipster': False, 'divey': False, 'touristy': False, 'trendy': False, 'upscale': True, 'casual': False}\",\n",
       "       \"{'romantic': True, 'intimate': True, 'classy': False, 'hipster': False, 'touristy': False, 'trendy': False, 'upscale': False, 'casual': True}\",\n",
       "       \"{'romantic': True, 'intimate': False, 'classy': True, 'hipster': False, 'divey': False, 'touristy': False, 'trendy': False, 'upscale': True, 'casual': False}\",\n",
       "       \"{'romantic': True, 'intimate': False, 'classy': True, 'hipster': False, 'divey': False, 'touristy': False, 'trendy': False, 'upscale': False, 'casual': False}\",\n",
       "       \"{'romantic': True, 'intimate': True, 'classy': True, 'hipster': False, 'divey': False, 'touristy': False, 'trendy': False, 'upscale': False, 'casual': True}\",\n",
       "       \"{'romantic': False, 'intimate': False, 'classy': True, 'hipster': False, 'touristy': False, 'trendy': True, 'upscale': False, 'casual': False}\",\n",
       "       \"{'romantic': False, 'intimate': False, 'classy': False, 'hipster': False, 'divey': False, 'touristy': True, 'trendy': True, 'upscale': False, 'casual': True}\",\n",
       "       \"{'romantic': False, 'intimate': False, 'classy': False, 'hipster': False, 'touristy': True, 'trendy': True, 'upscale': False, 'casual': False}\",\n",
       "       \"{'romantic': True, 'intimate': True, 'classy': True, 'hipster': False, 'touristy': False, 'trendy': True, 'upscale': True, 'casual': False}\",\n",
       "       \"{'romantic': True, 'intimate': True, 'classy': False, 'hipster': False, 'touristy': False, 'trendy': False, 'upscale': False, 'casual': False}\",\n",
       "       \"{'romantic': False, 'intimate': True, 'classy': False, 'hipster': False, 'touristy': False, 'trendy': False, 'upscale': False, 'casual': True}\",\n",
       "       \"{'romantic': False, 'intimate': True, 'classy': True, 'hipster': False, 'divey': False, 'touristy': False, 'trendy': False, 'upscale': True, 'casual': False}\",\n",
       "       \"{'romantic': False, 'intimate': False, 'classy': False, 'hipster': False, 'divey': True, 'touristy': False, 'trendy': True, 'upscale': False, 'casual': True}\",\n",
       "       \"{'romantic': False, 'intimate': False, 'classy': False, 'hipster': False, 'touristy': True, 'trendy': True, 'upscale': False, 'casual': True}\",\n",
       "       \"{'romantic': False, 'intimate': False, 'classy': False, 'hipster': False, 'touristy': False, 'trendy': True, 'upscale': True, 'casual': False}\",\n",
       "       \"{'romantic': False, 'intimate': True, 'classy': False, 'hipster': True, 'divey': False, 'touristy': False, 'trendy': True, 'upscale': False, 'casual': True}\",\n",
       "       \"{'romantic': True, 'intimate': False, 'classy': True, 'hipster': False, 'touristy': False, 'trendy': True, 'upscale': True, 'casual': False}\",\n",
       "       \"{'romantic': False, 'intimate': True, 'classy': True, 'hipster': False, 'divey': False, 'touristy': False, 'trendy': True, 'upscale': True, 'casual': True}\",\n",
       "       \"{'romantic': False, 'intimate': True, 'classy': True, 'hipster': False, 'touristy': False, 'trendy': False, 'upscale': True, 'casual': False}\",\n",
       "       \"{'romantic': False, 'intimate': True, 'classy': True, 'hipster': False, 'divey': False, 'touristy': False, 'trendy': True, 'upscale': True, 'casual': False}\",\n",
       "       \"{'romantic': True, 'intimate': False, 'classy': False, 'hipster': False, 'divey': False, 'touristy': False, 'trendy': False, 'upscale': False, 'casual': True}\",\n",
       "       \"{'romantic': False, 'intimate': False, 'classy': False, 'hipster': True, 'divey': True, 'touristy': False, 'trendy': True, 'upscale': False, 'casual': True}\",\n",
       "       \"{'romantic': True, 'intimate': True, 'classy': True, 'hipster': False, 'touristy': False, 'trendy': False, 'upscale': True, 'casual': False}\",\n",
       "       \"{'romantic': True, 'intimate': True, 'classy': True, 'hipster': False, 'touristy': False, 'trendy': True, 'upscale': False, 'casual': False}\",\n",
       "       \"{'romantic': True, 'intimate': False, 'classy': False, 'hipster': True, 'divey': False, 'touristy': False, 'trendy': True, 'upscale': False, 'casual': True}\",\n",
       "       \"{'romantic': False, 'intimate': True, 'classy': False, 'hipster': False, 'touristy': False, 'trendy': True, 'upscale': False, 'casual': False}\",\n",
       "       \"{'romantic': False, 'intimate': False, 'classy': False, 'hipster': True, 'divey': True, 'touristy': False, 'trendy': False, 'upscale': False, 'casual': True}\",\n",
       "       \"{'romantic': True, 'intimate': False, 'classy': True, 'hipster': False, 'divey': False, 'touristy': False, 'trendy': False, 'upscale': False, 'casual': True}\",\n",
       "       \"{'romantic': True, 'intimate': False, 'classy': False, 'hipster': False, 'touristy': False, 'trendy': True, 'upscale': False, 'casual': False}\",\n",
       "       \"{'romantic': True, 'intimate': True, 'classy': True, 'hipster': False, 'divey': False, 'touristy': False, 'trendy': True, 'upscale': True, 'casual': True}\",\n",
       "       \"{'romantic': False, 'intimate': False, 'classy': True, 'hipster': True, 'touristy': False, 'trendy': False, 'upscale': False, 'casual': False}\",\n",
       "       \"{'romantic': False, 'intimate': True, 'classy': False, 'hipster': True, 'divey': False, 'touristy': False, 'trendy': True, 'upscale': False, 'casual': False}\",\n",
       "       \"{'romantic': True, 'intimate': True, 'classy': False, 'hipster': False, 'divey': False, 'touristy': False, 'trendy': False, 'upscale': False, 'casual': True}\",\n",
       "       \"{'romantic': True, 'intimate': True, 'classy': False, 'hipster': False, 'divey': False, 'touristy': False, 'trendy': True, 'upscale': False, 'casual': True}\",\n",
       "       \"{'romantic': True, 'intimate': False, 'classy': False, 'hipster': False, 'touristy': True, 'trendy': False, 'upscale': False, 'casual': False}\",\n",
       "       \"{'romantic': False, 'intimate': False, 'classy': True, 'hipster': False, 'touristy': False, 'trendy': True, 'upscale': True, 'casual': True}\",\n",
       "       \"{'romantic': False, 'intimate': True, 'classy': False, 'hipster': True, 'touristy': False, 'trendy': True, 'upscale': False, 'casual': True}\",\n",
       "       \"{'romantic': True, 'intimate': True, 'classy': True, 'hipster': False, 'touristy': False, 'trendy': False, 'upscale': False, 'casual': True}\",\n",
       "       \"{'romantic': True, 'intimate': True, 'classy': False, 'hipster': False, 'touristy': False, 'trendy': False, 'upscale': True, 'casual': False}\",\n",
       "       \"{'romantic': False, 'intimate': False, 'classy': True, 'hipster': False, 'touristy': False, 'trendy': True, 'upscale': False, 'casual': True}\",\n",
       "       \"{'romantic': False, 'intimate': False, 'classy': True, 'hipster': False, 'touristy': False, 'trendy': False, 'upscale': False, 'casual': True}\",\n",
       "       \"{'romantic': False, 'intimate': False, 'classy': False, 'hipster': False, 'touristy': True, 'trendy': False, 'upscale': False, 'casual': False}\",\n",
       "       \"{'romantic': True, 'intimate': True, 'classy': True, 'hipster': False, 'touristy': False, 'trendy': False, 'upscale': False, 'casual': False}\",\n",
       "       \"{'romantic': False, 'intimate': True, 'classy': True, 'hipster': False, 'divey': False, 'touristy': False, 'trendy': False, 'upscale': False, 'casual': True}\",\n",
       "       \"{'romantic': True, 'intimate': True, 'classy': True, 'hipster': False, 'divey': False, 'touristy': False, 'trendy': True, 'upscale': False, 'casual': True}\",\n",
       "       \"{'romantic': True, 'intimate': True, 'classy': True, 'hipster': False, 'divey': False, 'touristy': False, 'trendy': True, 'upscale': True, 'casual': False}\",\n",
       "       \"{'romantic': False, 'intimate': False, 'classy': False, 'hipster': True, 'divey': True, 'touristy': False, 'trendy': False, 'upscale': False, 'casual': False}\",\n",
       "       \"{'romantic': True, 'intimate': False, 'classy': False, 'hipster': False, 'divey': False, 'touristy': False, 'trendy': True, 'upscale': False, 'casual': True}\",\n",
       "       \"{'romantic': True, 'intimate': True, 'classy': True, 'hipster': False, 'divey': False, 'touristy': False, 'trendy': True, 'upscale': False, 'casual': False}\",\n",
       "       \"{'romantic': False, 'intimate': False, 'classy': True, 'hipster': True, 'divey': False, 'touristy': False, 'trendy': True, 'upscale': False, 'casual': True}\",\n",
       "       \"{'romantic': False, 'intimate': True, 'classy': False, 'hipster': False, 'touristy': False, 'trendy': False, 'upscale': True, 'casual': True}\",\n",
       "       \"{'romantic': False, 'intimate': True, 'classy': False, 'hipster': False, 'divey': False, 'touristy': False, 'trendy': True, 'upscale': False, 'casual': False}\",\n",
       "       \"{'romantic': False, 'intimate': False, 'classy': True, 'hipster': False, 'divey': False, 'touristy': True, 'trendy': False, 'upscale': False, 'casual': True}\",\n",
       "       \"{'romantic': True, 'intimate': False, 'classy': False, 'hipster': False, 'divey': True, 'touristy': False, 'trendy': False, 'upscale': False, 'casual': False}\",\n",
       "       \"{'romantic': True, 'intimate': False, 'classy': True, 'hipster': False, 'divey': False, 'touristy': True, 'trendy': False, 'upscale': False, 'casual': True}\",\n",
       "       \"{'romantic': False, 'intimate': False, 'classy': False, 'hipster': True, 'touristy': False, 'trendy': True, 'upscale': True, 'casual': False}\",\n",
       "       \"{'romantic': False, 'intimate': False, 'classy': True, 'hipster': False, 'divey': False, 'touristy': False, 'trendy': True, 'upscale': True, 'casual': True}\",\n",
       "       \"{'romantic': False, 'intimate': True, 'classy': False, 'hipster': False, 'touristy': False, 'trendy': False, 'upscale': True, 'casual': False}\",\n",
       "       \"{'romantic': False, 'intimate': True, 'classy': False, 'hipster': False, 'divey': False, 'touristy': False, 'trendy': True, 'upscale': True, 'casual': False}\",\n",
       "       \"{'romantic': True, 'intimate': False, 'classy': True, 'hipster': False, 'divey': False, 'touristy': False, 'trendy': True, 'upscale': False, 'casual': True}\",\n",
       "       \"{'romantic': False, 'intimate': True, 'classy': False, 'hipster': False, 'divey': True, 'touristy': False, 'trendy': False, 'upscale': False, 'casual': False}\",\n",
       "       \"{'romantic': False, 'intimate': True, 'classy': True, 'hipster': False, 'touristy': False, 'trendy': True, 'upscale': False, 'casual': False}\",\n",
       "       \"{'romantic': False, 'intimate': True, 'classy': False, 'hipster': False, 'divey': False, 'touristy': False, 'trendy': False, 'upscale': True, 'casual': False}\",\n",
       "       \"{'romantic': True, 'intimate': True, 'classy': True, 'hipster': False, 'touristy': False, 'trendy': False, 'upscale': True, 'casual': True}\",\n",
       "       \"{'romantic': True, 'intimate': False, 'classy': False, 'hipster': False, 'divey': False, 'touristy': False, 'trendy': False, 'upscale': True, 'casual': False}\",\n",
       "       \"{'romantic': True, 'intimate': False, 'classy': False, 'hipster': False, 'divey': False, 'touristy': False, 'trendy': True, 'upscale': True, 'casual': False}\",\n",
       "       \"{'romantic': True, 'intimate': True, 'classy': False, 'hipster': False, 'divey': False, 'touristy': False, 'trendy': True, 'upscale': False, 'casual': False}\",\n",
       "       \"{'romantic': True, 'intimate': False, 'classy': True, 'hipster': False, 'touristy': True, 'trendy': False, 'upscale': False, 'casual': True}\",\n",
       "       \"{'romantic': True, 'intimate': True, 'classy': False, 'hipster': False, 'divey': False, 'touristy': False, 'trendy': False, 'upscale': True, 'casual': False}\",\n",
       "       \"{'romantic': True, 'intimate': False, 'classy': True, 'hipster': False, 'divey': False, 'touristy': False, 'trendy': True, 'upscale': True, 'casual': False}\",\n",
       "       \"{'romantic': False, 'intimate': False, 'classy': True, 'hipster': True, 'divey': False, 'touristy': True, 'trendy': True, 'upscale': False, 'casual': True}\",\n",
       "       \"{'romantic': True, 'intimate': False, 'classy': True, 'hipster': False, 'touristy': False, 'trendy': False, 'upscale': False, 'casual': True}\",\n",
       "       \"{'romantic': True, 'intimate': False, 'classy': False, 'hipster': False, 'touristy': False, 'trendy': True, 'upscale': False, 'casual': True}\",\n",
       "       \"{'romantic': True, 'intimate': False, 'classy': True, 'hipster': False, 'divey': False, 'touristy': False, 'trendy': True, 'upscale': True, 'casual': True}\",\n",
       "       \"{'romantic': True, 'intimate': False, 'classy': True, 'hipster': False, 'touristy': False, 'trendy': True, 'upscale': False, 'casual': False}\",\n",
       "       \"{'romantic': False, 'intimate': True, 'classy': False, 'hipster': True, 'touristy': False, 'trendy': False, 'upscale': False, 'casual': False}\",\n",
       "       \"{'romantic': True, 'intimate': False, 'classy': False, 'hipster': False, 'touristy': False, 'trendy': False, 'upscale': True, 'casual': False}\",\n",
       "       \"{'romantic': False, 'intimate': False, 'classy': False, 'hipster': False, 'touristy': False, 'trendy': True, 'upscale': True, 'casual': True}\",\n",
       "       \"{'romantic': False, 'intimate': True, 'classy': True, 'hipster': False, 'touristy': False, 'trendy': False, 'upscale': False, 'casual': True}\",\n",
       "       \"{'romantic': False, 'intimate': False, 'classy': False, 'hipster': False, 'touristy': False, 'trendy': False, 'upscale': True, 'casual': True}\",\n",
       "       \"{'romantic': False, 'intimate': True, 'classy': True, 'hipster': False, 'divey': False, 'touristy': False, 'trendy': True, 'upscale': False, 'casual': False}\",\n",
       "       \"{'romantic': False, 'intimate': True, 'classy': False, 'hipster': True, 'divey': False, 'touristy': False, 'trendy': False, 'upscale': False, 'casual': False}\",\n",
       "       \"{'romantic': True, 'intimate': False, 'classy': False, 'hipster': True, 'touristy': False, 'trendy': False, 'upscale': False, 'casual': False}\",\n",
       "       \"{'romantic': True, 'intimate': False, 'classy': True, 'hipster': True, 'divey': False, 'touristy': False, 'trendy': True, 'upscale': False, 'casual': True}\",\n",
       "       \"{'romantic': True, 'intimate': False, 'classy': False, 'hipster': False, 'divey': False, 'touristy': False, 'trendy': True, 'upscale': False, 'casual': False}\",\n",
       "       \"{'romantic': False, 'intimate': False, 'classy': False, 'hipster': False, 'divey': True, 'touristy': True, 'trendy': False, 'upscale': False, 'casual': True}\",\n",
       "       \"{'romantic': True, 'intimate': True, 'classy': False, 'hipster': False, 'touristy': False, 'trendy': True, 'upscale': False, 'casual': False}\",\n",
       "       \"{'romantic': False, 'intimate': False, 'classy': True, 'hipster': True, 'divey': False, 'touristy': False, 'trendy': False, 'upscale': False, 'casual': True}\",\n",
       "       \"{'romantic': False, 'intimate': True, 'classy': True, 'hipster': True, 'divey': False, 'touristy': False, 'trendy': True, 'upscale': False, 'casual': True}\",\n",
       "       \"{'romantic': False, 'intimate': True, 'classy': False, 'hipster': False, 'touristy': True, 'trendy': False, 'upscale': False, 'casual': False}\",\n",
       "       \"{'romantic': False, 'intimate': False, 'classy': True, 'hipster': True, 'divey': False, 'touristy': False, 'trendy': False, 'upscale': True, 'casual': True}\",\n",
       "       \"{'romantic': False, 'intimate': True, 'classy': False, 'hipster': False, 'divey': False, 'touristy': False, 'trendy': True, 'upscale': True, 'casual': True}\",\n",
       "       \"{'romantic': True, 'intimate': True, 'classy': True, 'hipster': True, 'divey': False, 'touristy': False, 'trendy': True, 'upscale': True, 'casual': True}\",\n",
       "       \"{'romantic': False, 'intimate': False, 'classy': True, 'hipster': False, 'divey': True, 'touristy': False, 'trendy': True, 'upscale': False, 'casual': False}\",\n",
       "       \"{'romantic': False, 'intimate': False, 'classy': True, 'hipster': False, 'divey': True, 'touristy': False, 'trendy': True, 'upscale': False, 'casual': True}\",\n",
       "       \"{'romantic': False, 'intimate': False, 'classy': False, 'hipster': False, 'divey': False, 'touristy': False, 'trendy': True, 'upscale': True, 'casual': True}\",\n",
       "       \"{'romantic': False, 'intimate': True, 'classy': False, 'hipster': True, 'touristy': False, 'trendy': True, 'upscale': False, 'casual': False}\",\n",
       "       \"{'romantic': False, 'intimate': False, 'classy': True, 'hipster': True, 'divey': False, 'touristy': False, 'trendy': True, 'upscale': True, 'casual': False}\",\n",
       "       \"{'romantic': False, 'intimate': True, 'classy': True, 'hipster': True, 'divey': False, 'touristy': False, 'trendy': True, 'upscale': True, 'casual': False}\",\n",
       "       \"{'romantic': False, 'intimate': False, 'classy': False, 'hipster': True, 'divey': False, 'touristy': True, 'trendy': False, 'upscale': False, 'casual': True}\",\n",
       "       \"{'romantic': True, 'intimate': True, 'classy': True, 'hipster': False, 'touristy': False, 'trendy': True, 'upscale': False, 'casual': True}\",\n",
       "       \"{'romantic': False, 'intimate': True, 'classy': False, 'hipster': True, 'touristy': False, 'trendy': False, 'upscale': False, 'casual': True}\",\n",
       "       \"{'romantic': True, 'intimate': True, 'classy': False, 'hipster': False, 'divey': False, 'touristy': False, 'trendy': False, 'upscale': True, 'casual': True}\",\n",
       "       \"{'romantic': False, 'intimate': False, 'classy': False, 'hipster': False, 'divey': False, 'touristy': True, 'trendy': True, 'upscale': False, 'casual': False}\",\n",
       "       \"{'romantic': True, 'intimate': False, 'classy': False, 'hipster': False, 'divey': False, 'touristy': False, 'trendy': True, 'upscale': True, 'casual': True}\",\n",
       "       \"{'romantic': False, 'intimate': True, 'classy': False, 'hipster': True, 'divey': False, 'touristy': False, 'trendy': True, 'upscale': True, 'casual': False}\",\n",
       "       \"{'romantic': True, 'intimate': True, 'classy': True, 'hipster': False, 'divey': False, 'touristy': True, 'trendy': False, 'upscale': False, 'casual': False}\",\n",
       "       \"{'romantic': False, 'intimate': False, 'classy': True, 'hipster': False, 'divey': False, 'touristy': True, 'trendy': True, 'upscale': False, 'casual': True}\",\n",
       "       \"{'romantic': False, 'intimate': False, 'classy': False, 'hipster': True, 'touristy': True, 'trendy': True, 'upscale': False, 'casual': True}\",\n",
       "       \"{'romantic': True, 'intimate': False, 'classy': False, 'hipster': False, 'touristy': True, 'trendy': False, 'upscale': False, 'casual': True}\",\n",
       "       \"{'romantic': False, 'intimate': False, 'classy': True, 'hipster': False, 'divey': False, 'touristy': True, 'trendy': True, 'upscale': True, 'casual': False}\",\n",
       "       \"{'romantic': False, 'intimate': True, 'classy': False, 'hipster': False, 'divey': True, 'touristy': False, 'trendy': False, 'upscale': False, 'casual': True}\",\n",
       "       \"{'romantic': True, 'intimate': True, 'classy': True, 'hipster': False, 'divey': False, 'touristy': False, 'trendy': False, 'upscale': True, 'casual': True}\"],\n",
       "      dtype=object)"
      ]
     },
     "execution_count": 212,
     "metadata": {},
     "output_type": "execute_result"
    }
   ],
   "source": [
    "# Understand the ambience\n",
    "restaurants['attributes.Ambience'].unique()"
   ]
  },
  {
   "cell_type": "code",
   "execution_count": 233,
   "metadata": {},
   "outputs": [],
   "source": [
    "def ambience_extract(row):\n",
    "    ambience_list = list()\n",
    "    import ast\n",
    "    if pd.isnull(row['attributes.Ambience']):\n",
    "        return None\n",
    "    else:\n",
    "        for key, value in ast.literal_eval(row['attributes.Ambience']).items():\n",
    "            if value == True:\n",
    "                ambience_list.append(key)\n",
    "        return \",\".join(ambience_list)"
   ]
  },
  {
   "cell_type": "code",
   "execution_count": 234,
   "metadata": {},
   "outputs": [],
   "source": [
    "restaurants['Ambience'] = restaurants.apply(lambda row: ambience_extract(row),axis=1)"
   ]
  },
  {
   "cell_type": "code",
   "execution_count": 235,
   "metadata": {},
   "outputs": [],
   "source": [
    "ambience_list = restaurants['Ambience'].tolist()\n",
    "ambience_list = [x for x in ambience_list if x is not None and x != '']"
   ]
  },
  {
   "cell_type": "code",
   "execution_count": 236,
   "metadata": {},
   "outputs": [],
   "source": [
    "cat_all_am = ','.join(ambience_list)"
   ]
  },
  {
   "cell_type": "code",
   "execution_count": 237,
   "metadata": {},
   "outputs": [
    {
     "data": {
      "text/plain": [
       "casual      22192\n",
       "trendy       2428\n",
       "classy       1061\n",
       "divey        1057\n",
       "hipster      1043\n",
       "intimate      672\n",
       "romantic      599\n",
       "upscale       494\n",
       "touristy      229\n",
       "Name: Ambience, dtype: int64"
      ]
     },
     "execution_count": 237,
     "metadata": {},
     "output_type": "execute_result"
    }
   ],
   "source": [
    "cat_all_am = pd.DataFrame(cat_all_am.split(','), columns=['Ambience'])\n",
    "cat_all_am_count = cat_all_am.Ambience.value_counts().sort_values(ascending = False)\n",
    "cat_all_am_count"
   ]
  },
  {
   "cell_type": "markdown",
   "metadata": {},
   "source": [
    "We create dummy variables for 'casual', 'trendy' and 'Others'"
   ]
  },
  {
   "cell_type": "code",
   "execution_count": 238,
   "metadata": {},
   "outputs": [],
   "source": [
    "def ambience_casual(row):\n",
    "    if row['Ambience'] is not None and row['Ambience'] != '':\n",
    "        if 'casual' in row['Ambience'].split(','):\n",
    "            return 1\n",
    "        else:\n",
    "            return 0\n",
    "    else:\n",
    "        return 0\n",
    "restaurants['ambience_casual'] = restaurants.apply(lambda row: ambience_casual(row),axis=1)"
   ]
  },
  {
   "cell_type": "code",
   "execution_count": 239,
   "metadata": {},
   "outputs": [],
   "source": [
    "def ambience_trendy(row):\n",
    "    if row['Ambience'] is not None and row['Ambience'] != '':\n",
    "        if 'trendy' in row['Ambience'].split(','):\n",
    "            return 1\n",
    "        else:\n",
    "            return 0\n",
    "    else:\n",
    "        return 0\n",
    "restaurants['ambience_trendy'] = restaurants.apply(lambda row: ambience_trendy(row),axis=1)"
   ]
  },
  {
   "cell_type": "code",
   "execution_count": 240,
   "metadata": {},
   "outputs": [],
   "source": [
    "ambience_others_list = ['romantic', 'intimate', 'classy', 'hipster', 'touristy', 'upscale', 'divey']\n",
    "def ambience_others(row):\n",
    "    if row['Ambience'] is not None and row['Ambience'] != '':\n",
    "        if (set(ambience_others_list) & set(row['Ambience'].split(','))):\n",
    "            return 1\n",
    "        else:\n",
    "            return 0\n",
    "    else:\n",
    "        return 0\n",
    "restaurants['ambience_others'] = restaurants.apply(lambda row: ambience_others(row),axis=1)"
   ]
  },
  {
   "cell_type": "markdown",
   "metadata": {},
   "source": [
    "## 3.3 Food categories"
   ]
  },
  {
   "cell_type": "markdown",
   "metadata": {},
   "source": [
    "Food label will include:\n",
    "1. American Food\n",
    "2. Asian Food\n",
    "3. European Food \n",
    "4. Sandwich\n",
    "5. Burgers\n",
    "6. Restaurants"
   ]
  },
  {
   "cell_type": "code",
   "execution_count": 241,
   "metadata": {},
   "outputs": [],
   "source": [
    "american_food = ['American(Traditional)', 'American(New)']\n",
    "asian_food = ['Chinese','Malaysian','Japanese','AsianFusion','SushiBars','PanAsian','Poke','Indian','Thai',\n",
    "             'Szechuan','Vietnamese','Korean','Cantonese','Dim Sum','Taiwanese','Filipino','Ramen','Noodles']\n",
    "european_food = ['Italian','Mediterranean','British','Delicatessen','French','Greek','Polish','Irish','German',\n",
    "                'Spanish','Portuguese']"
   ]
  },
  {
   "cell_type": "code",
   "execution_count": 242,
   "metadata": {},
   "outputs": [],
   "source": [
    "def american_food_label(row):\n",
    "    if bool(set(row['categories'].replace(\" \",\"\").split(',')) & set(american_food)):\n",
    "        return 1\n",
    "    else:\n",
    "        return 0\n",
    "restaurants['american_food'] = restaurants.apply(lambda row: american_food_label(row),axis=1)"
   ]
  },
  {
   "cell_type": "code",
   "execution_count": 243,
   "metadata": {},
   "outputs": [],
   "source": [
    "def asian_food_label(row):\n",
    "    if bool(set(row['categories'].replace(\" \",\"\").split(',')) & set(asian_food)):\n",
    "        return 1\n",
    "    else:\n",
    "        return 0\n",
    "restaurants['asian_food'] = restaurants.apply(lambda row: asian_food_label(row),axis=1)"
   ]
  },
  {
   "cell_type": "code",
   "execution_count": 244,
   "metadata": {},
   "outputs": [],
   "source": [
    "def european_food_label(row):\n",
    "    if bool(set(row['categories'].replace(\" \",\"\").split(',')) & set(european_food)):\n",
    "        return 1\n",
    "    else:\n",
    "        return 0\n",
    "restaurants['european_food'] = restaurants.apply(lambda row: european_food_label(row),axis=1)"
   ]
  },
  {
   "cell_type": "code",
   "execution_count": 245,
   "metadata": {},
   "outputs": [],
   "source": [
    "def sandwich_label(row):\n",
    "    if \"Sandwiches\" in (row['categories'].replace(\" \",\"\").split(',')):\n",
    "        return 1\n",
    "    else:\n",
    "        return 0\n",
    "restaurants['sandwich'] = restaurants.apply(lambda row: sandwich_label(row),axis=1)"
   ]
  },
  {
   "cell_type": "code",
   "execution_count": 246,
   "metadata": {},
   "outputs": [],
   "source": [
    "def burger_label(row):\n",
    "    if \"Burgers\" in (row['categories'].replace(\" \",\"\").split(',')):\n",
    "        return 1\n",
    "    else:\n",
    "        return 0\n",
    "restaurants['burger'] = restaurants.apply(lambda row: burger_label(row),axis=1)"
   ]
  },
  {
   "cell_type": "code",
   "execution_count": 247,
   "metadata": {},
   "outputs": [],
   "source": [
    "def restaurant_label(row):\n",
    "    if \"Restaurants\" in (row['categories'].replace(\" \",\"\").split(',')):\n",
    "        return 1\n",
    "    else:\n",
    "        return 0\n",
    "restaurants['restaurant'] = restaurants.apply(lambda row: restaurant_label(row),axis=1)"
   ]
  },
  {
   "cell_type": "markdown",
   "metadata": {},
   "source": [
    "## 3.4 Continuous Features"
   ]
  },
  {
   "cell_type": "code",
   "execution_count": 248,
   "metadata": {},
   "outputs": [
    {
     "data": {
      "text/plain": [
       "array([nan, '18plus', '21plus', 'allages', '19plus'], dtype=object)"
      ]
     },
     "execution_count": 248,
     "metadata": {},
     "output_type": "execute_result"
    }
   ],
   "source": [
    "restaurants['attributes.AgesAllowed'].unique()"
   ]
  },
  {
   "cell_type": "code",
   "execution_count": 249,
   "metadata": {},
   "outputs": [
    {
     "data": {
      "text/plain": [
       "LabelEncoder()"
      ]
     },
     "execution_count": 249,
     "metadata": {},
     "output_type": "execute_result"
    }
   ],
   "source": [
    "from sklearn import preprocessing\n",
    "le = preprocessing.LabelEncoder()\n",
    "restaurants['attributes.AgesAllowed'].fillna('0',inplace=True)\n",
    "le.fit(['0',\"allages\", \"18plus\", \"19plus\", \"21plus\"])"
   ]
  },
  {
   "cell_type": "code",
   "execution_count": 250,
   "metadata": {},
   "outputs": [
    {
     "data": {
      "text/plain": [
       "array(['0', '19plus', '18plus'], dtype='<U7')"
      ]
     },
     "execution_count": 250,
     "metadata": {},
     "output_type": "execute_result"
    }
   ],
   "source": [
    "le.inverse_transform([0, 2, 1])"
   ]
  },
  {
   "cell_type": "code",
   "execution_count": 251,
   "metadata": {},
   "outputs": [],
   "source": [
    "restaurants['attributes.AgesAllowed'] = le.transform(restaurants['attributes.AgesAllowed']) "
   ]
  },
  {
   "cell_type": "markdown",
   "metadata": {},
   "source": [
    "## 3.5 Categorical Features"
   ]
  },
  {
   "cell_type": "code",
   "execution_count": 77,
   "metadata": {},
   "outputs": [
    {
     "data": {
      "text/plain": [
       "array([nan,\n",
       "       \"{'monday': False, 'tuesday': True, 'friday': True, 'wednesday': False, 'thursday': False, 'sunday': False, 'saturday': True}\",\n",
       "       \"{'monday': False, 'tuesday': False, 'friday': False, 'wednesday': True, 'thursday': False, 'sunday': False, 'saturday': False}\",\n",
       "       \"{'monday': False, 'tuesday': False, 'friday': False, 'wednesday': False, 'thursday': False, 'sunday': False, 'saturday': False}\",\n",
       "       \"{'monday': True, 'tuesday': False, 'friday': False, 'wednesday': False, 'thursday': False, 'sunday': True, 'saturday': True}\",\n",
       "       \"{'monday': True, 'tuesday': False, 'friday': False, 'wednesday': False, 'thursday': True, 'sunday': False, 'saturday': True}\",\n",
       "       \"{'monday': False, 'tuesday': False, 'friday': True, 'wednesday': False, 'thursday': True, 'sunday': False, 'saturday': True}\",\n",
       "       \"{'monday': False, 'tuesday': False, 'friday': False, 'wednesday': False, 'thursday': False, 'sunday': False, 'saturday': True}\",\n",
       "       \"{'monday': False, 'tuesday': False, 'friday': True, 'wednesday': False, 'thursday': False, 'sunday': False, 'saturday': True}\",\n",
       "       \"{'monday': False, 'tuesday': False, 'friday': True, 'wednesday': False, 'thursday': False, 'sunday': True, 'saturday': True}\",\n",
       "       \"{'monday': False, 'tuesday': False, 'friday': False, 'wednesday': False, 'thursday': True, 'sunday': True, 'saturday': True}\",\n",
       "       \"{'monday': False, 'tuesday': False, 'friday': True, 'wednesday': False, 'thursday': False, 'sunday': False, 'saturday': False}\",\n",
       "       \"{'monday': True, 'tuesday': False, 'friday': True, 'wednesday': False, 'thursday': True, 'sunday': False, 'saturday': False}\",\n",
       "       \"{'monday': True, 'tuesday': False, 'friday': True, 'wednesday': False, 'thursday': False, 'sunday': False, 'saturday': True}\",\n",
       "       \"{'monday': False, 'tuesday': True, 'friday': False, 'wednesday': False, 'thursday': False, 'sunday': False, 'saturday': False}\",\n",
       "       \"{'monday': True, 'tuesday': True, 'friday': False, 'wednesday': False, 'thursday': False, 'sunday': False, 'saturday': True}\",\n",
       "       \"{'monday': False, 'tuesday': True, 'friday': True, 'wednesday': False, 'thursday': False, 'sunday': False, 'saturday': False}\",\n",
       "       \"{'monday': False, 'tuesday': False, 'friday': True, 'wednesday': True, 'thursday': False, 'sunday': False, 'saturday': True}\",\n",
       "       \"{'monday': False, 'tuesday': True, 'friday': False, 'wednesday': True, 'thursday': True, 'sunday': False, 'saturday': False}\",\n",
       "       \"{'monday': False, 'tuesday': False, 'friday': True, 'wednesday': True, 'thursday': False, 'sunday': True, 'saturday': False}\",\n",
       "       \"{'monday': False, 'tuesday': False, 'friday': True, 'wednesday': True, 'thursday': False, 'sunday': False, 'saturday': False}\",\n",
       "       \"{'monday': False, 'tuesday': False, 'friday': False, 'wednesday': False, 'thursday': False, 'sunday': True, 'saturday': True}\",\n",
       "       \"{'monday': False, 'tuesday': False, 'friday': False, 'wednesday': True, 'thursday': True, 'sunday': False, 'saturday': True}\",\n",
       "       \"{'monday': False, 'tuesday': False, 'friday': True, 'wednesday': True, 'thursday': True, 'sunday': False, 'saturday': False}\",\n",
       "       \"{'monday': True, 'tuesday': True, 'friday': False, 'wednesday': True, 'thursday': False, 'sunday': False, 'saturday': False}\",\n",
       "       \"{'monday': False, 'tuesday': True, 'friday': False, 'wednesday': True, 'thursday': False, 'sunday': False, 'saturday': True}\",\n",
       "       \"{'monday': False, 'tuesday': False, 'friday': False, 'wednesday': True, 'thursday': False, 'sunday': False, 'saturday': True}\",\n",
       "       \"{'monday': True, 'tuesday': False, 'friday': True, 'wednesday': True, 'thursday': False, 'sunday': False, 'saturday': False}\",\n",
       "       \"{'monday': False, 'tuesday': True, 'friday': False, 'wednesday': False, 'thursday': True, 'sunday': False, 'saturday': False}\",\n",
       "       \"{'monday': False, 'tuesday': False, 'friday': True, 'wednesday': False, 'thursday': True, 'sunday': True, 'saturday': False}\",\n",
       "       \"{'monday': False, 'tuesday': True, 'friday': True, 'wednesday': False, 'thursday': True, 'sunday': False, 'saturday': False}\",\n",
       "       \"{'monday': False, 'tuesday': False, 'friday': False, 'wednesday': False, 'thursday': True, 'sunday': False, 'saturday': True}\",\n",
       "       \"{'monday': False, 'tuesday': False, 'friday': False, 'wednesday': False, 'thursday': False, 'sunday': True, 'saturday': False}\",\n",
       "       \"{'monday': False, 'tuesday': False, 'friday': False, 'wednesday': False, 'thursday': True, 'sunday': False, 'saturday': False}\",\n",
       "       \"{'monday': True, 'tuesday': False, 'friday': False, 'wednesday': False, 'thursday': False, 'sunday': True, 'saturday': False}\",\n",
       "       \"{'monday': True, 'tuesday': False, 'friday': False, 'wednesday': True, 'thursday': False, 'sunday': False, 'saturday': True}\",\n",
       "       \"{'monday': False, 'tuesday': True, 'friday': True, 'wednesday': True, 'thursday': False, 'sunday': False, 'saturday': False}\",\n",
       "       \"{'monday': True, 'tuesday': False, 'friday': True, 'wednesday': False, 'thursday': False, 'sunday': True, 'saturday': False}\",\n",
       "       \"{'monday': True, 'tuesday': True, 'friday': False, 'wednesday': False, 'thursday': False, 'sunday': True, 'saturday': False}\",\n",
       "       \"{'monday': False, 'tuesday': False, 'friday': True, 'wednesday': False, 'thursday': True, 'sunday': False, 'saturday': False}\",\n",
       "       \"{'monday': True, 'tuesday': True, 'friday': False, 'wednesday': False, 'thursday': True, 'sunday': False, 'saturday': False}\",\n",
       "       \"{'monday': True, 'tuesday': False, 'friday': False, 'wednesday': False, 'thursday': False, 'sunday': False, 'saturday': False}\",\n",
       "       \"{'monday': False, 'tuesday': True, 'friday': False, 'wednesday': False, 'thursday': True, 'sunday': False, 'saturday': True}\",\n",
       "       \"{'monday': True, 'tuesday': False, 'friday': True, 'wednesday': False, 'thursday': False, 'sunday': False, 'saturday': False}\",\n",
       "       \"{'monday': False, 'tuesday': False, 'friday': False, 'wednesday': True, 'thursday': True, 'sunday': True, 'saturday': False}\",\n",
       "       \"{'monday': False, 'tuesday': True, 'friday': False, 'wednesday': False, 'thursday': False, 'sunday': True, 'saturday': True}\",\n",
       "       \"{'monday': False, 'tuesday': False, 'friday': False, 'wednesday': True, 'thursday': False, 'sunday': True, 'saturday': True}\",\n",
       "       \"{'monday': False, 'tuesday': False, 'friday': False, 'wednesday': False, 'thursday': True, 'sunday': True, 'saturday': False}\",\n",
       "       \"{'monday': True, 'tuesday': False, 'friday': False, 'wednesday': True, 'thursday': True, 'sunday': False, 'saturday': False}\",\n",
       "       \"{'monday': True, 'tuesday': False, 'friday': False, 'wednesday': False, 'thursday': False, 'sunday': False, 'saturday': True}\",\n",
       "       \"{'monday': False, 'tuesday': False, 'friday': True, 'wednesday': False, 'thursday': False, 'sunday': True, 'saturday': False}\",\n",
       "       \"{'monday': True, 'tuesday': True, 'friday': False, 'wednesday': False, 'thursday': False, 'sunday': False, 'saturday': False}\",\n",
       "       \"{'monday': True, 'tuesday': True, 'friday': True, 'wednesday': False, 'thursday': False, 'sunday': False, 'saturday': False}\",\n",
       "       \"{'monday': False, 'tuesday': True, 'friday': False, 'wednesday': True, 'thursday': False, 'sunday': False, 'saturday': False}\",\n",
       "       \"{'monday': False, 'tuesday': True, 'friday': False, 'wednesday': False, 'thursday': True, 'sunday': True, 'saturday': False}\",\n",
       "       \"{'monday': True, 'tuesday': False, 'friday': False, 'wednesday': True, 'thursday': False, 'sunday': False, 'saturday': False}\",\n",
       "       \"{'monday': False, 'tuesday': True, 'friday': False, 'wednesday': False, 'thursday': False, 'sunday': False, 'saturday': True}\",\n",
       "       \"{'monday': False, 'tuesday': True, 'friday': False, 'wednesday': False, 'thursday': False, 'sunday': True, 'saturday': False}\",\n",
       "       \"{'monday': False, 'tuesday': True, 'friday': True, 'wednesday': False, 'thursday': False, 'sunday': True, 'saturday': False}\",\n",
       "       \"{'monday': False, 'tuesday': False, 'friday': False, 'wednesday': True, 'thursday': True, 'sunday': False, 'saturday': False}\",\n",
       "       \"{'monday': False, 'tuesday': False, 'friday': False, 'wednesday': True, 'thursday': False, 'sunday': True, 'saturday': False}\",\n",
       "       \"{'monday': True, 'tuesday': False, 'friday': False, 'wednesday': False, 'thursday': True, 'sunday': False, 'saturday': False}\",\n",
       "       \"{'monday': True, 'tuesday': False, 'friday': False, 'wednesday': True, 'thursday': False, 'sunday': True, 'saturday': False}\",\n",
       "       \"{'monday': True, 'tuesday': False, 'friday': False, 'wednesday': False, 'thursday': True, 'sunday': True, 'saturday': False}\",\n",
       "       \"{'monday': False, 'tuesday': True, 'friday': False, 'wednesday': True, 'thursday': False, 'sunday': True, 'saturday': False}\"],\n",
       "      dtype=object)"
      ]
     },
     "execution_count": 77,
     "metadata": {},
     "output_type": "execute_result"
    }
   ],
   "source": [
    "restaurants['attributes.BestNights'].unique()"
   ]
  },
  {
   "cell_type": "markdown",
   "metadata": {},
   "source": [
    "## 3.6 Create Dummy Variables for features"
   ]
  },
  {
   "cell_type": "code",
   "execution_count": 252,
   "metadata": {},
   "outputs": [],
   "source": [
    "cols_dummy = ['attributes.RestaurantsAttire','attributes.Alcohol',\n",
    "        'attributes.RestaurantsReservations','attributes.GoodForKids','attributes.Smoking',\n",
    "        'attributes.NoiseLevel','attributes.Open24Hours',\n",
    "        'attributes.ByAppointmentOnly','attributes.RestaurantsDelivery',\n",
    "        'attributes.RestaurantsGoodForGroups','attributes.RestaurantsTableService','attributes.WiFi',\n",
    "        'attributes.DogsAllowed','attributes.BusinessAcceptsCreditCards',\n",
    "        'attributes.DriveThru','attributes.Caters','attributes.RestaurantsTakeOut',\n",
    "        'attributes.WheelchairAccessible','attributes.HasTV','attributes.HappyHour',\n",
    "        'attributes.CoatCheck','attributes.OutdoorSeating','is_open','attributes.AcceptsInsurance']\n",
    "        \n",
    "        \n",
    "special_col = ['attributes.GoodForMeal', 'attributes.BestNights','attributes.Music',\n",
    "               'hours', 'attributes.BusinessParking','attributes.RestaurantsAttire']"
   ]
  },
  {
   "cell_type": "code",
   "execution_count": 253,
   "metadata": {},
   "outputs": [],
   "source": [
    "res_full = pd.get_dummies(data=restaurants, columns = cols_dummy)"
   ]
  },
  {
   "cell_type": "code",
   "execution_count": 254,
   "metadata": {
    "scrolled": false
   },
   "outputs": [
    {
     "data": {
      "text/plain": [
       "['hours.Friday',\n",
       " 'attributes.BikeParking',\n",
       " 'state',\n",
       " 'categories',\n",
       " 'attributes.BusinessParking',\n",
       " 'attributes.GoodForDancing',\n",
       " 'attributes.BYOB',\n",
       " 'attributes.DietaryRestrictions',\n",
       " 'hours.Sunday',\n",
       " 'attributes.BYOBCorkage',\n",
       " 'latitude',\n",
       " 'attributes.BusinessAcceptsBitcoin',\n",
       " 'attributes.GoodForMeal',\n",
       " 'attributes.BestNights',\n",
       " 'attributes.Corkage',\n",
       " 'attributes.Music',\n",
       " 'hours.Wednesday',\n",
       " 'longitude',\n",
       " 'neighborhood',\n",
       " 'attributes.HairSpecializesIn',\n",
       " 'hours.Thursday',\n",
       " 'attributes.AgesAllowed',\n",
       " 'business_id',\n",
       " 'postal_code',\n",
       " 'hours',\n",
       " 'review_count',\n",
       " 'name',\n",
       " 'hours.Saturday',\n",
       " 'attributes.Ambience',\n",
       " 'attributes.RestaurantsCounterService',\n",
       " 'address',\n",
       " 'attributes.RestaurantsPriceRange2',\n",
       " 'hours.Tuesday',\n",
       " 'hours.Monday',\n",
       " 'attributes',\n",
       " 'stars',\n",
       " 'city',\n",
       " 'country',\n",
       " 'max_rating_rest',\n",
       " 'min_rating_rest',\n",
       " 'useful',\n",
       " 'funny',\n",
       " 'cool',\n",
       " 'earliest_review_date',\n",
       " 'latest_review_date',\n",
       " 'date_difference',\n",
       " 'earliest_till_now',\n",
       " 'latest_till_now',\n",
       " 'Ambience',\n",
       " 'ambience_casual',\n",
       " 'ambience_trendy',\n",
       " 'ambience_others',\n",
       " 'american_food',\n",
       " 'asian_food',\n",
       " 'european_food',\n",
       " 'sandwich',\n",
       " 'burger',\n",
       " 'restaurant',\n",
       " 'attributes.RestaurantsAttire_casual',\n",
       " 'attributes.RestaurantsAttire_dressy',\n",
       " 'attributes.RestaurantsAttire_formal',\n",
       " 'attributes.Alcohol_beer_and_wine',\n",
       " 'attributes.Alcohol_full_bar',\n",
       " 'attributes.Alcohol_none',\n",
       " 'attributes.RestaurantsReservations_False',\n",
       " 'attributes.RestaurantsReservations_True',\n",
       " 'attributes.GoodForKids_False',\n",
       " 'attributes.GoodForKids_True',\n",
       " 'attributes.Smoking_no',\n",
       " 'attributes.Smoking_outdoor',\n",
       " 'attributes.Smoking_yes',\n",
       " 'attributes.NoiseLevel_average',\n",
       " 'attributes.NoiseLevel_loud',\n",
       " 'attributes.NoiseLevel_quiet',\n",
       " 'attributes.NoiseLevel_very_loud',\n",
       " 'attributes.Open24Hours_False',\n",
       " 'attributes.Open24Hours_True',\n",
       " 'attributes.ByAppointmentOnly_False',\n",
       " 'attributes.ByAppointmentOnly_True',\n",
       " 'attributes.RestaurantsDelivery_False',\n",
       " 'attributes.RestaurantsDelivery_True',\n",
       " 'attributes.RestaurantsGoodForGroups_False',\n",
       " 'attributes.RestaurantsGoodForGroups_True',\n",
       " 'attributes.RestaurantsTableService_False',\n",
       " 'attributes.RestaurantsTableService_True',\n",
       " 'attributes.WiFi_free',\n",
       " 'attributes.WiFi_no',\n",
       " 'attributes.WiFi_paid',\n",
       " 'attributes.DogsAllowed_False',\n",
       " 'attributes.DogsAllowed_True',\n",
       " 'attributes.BusinessAcceptsCreditCards_False',\n",
       " 'attributes.BusinessAcceptsCreditCards_True',\n",
       " 'attributes.DriveThru_False',\n",
       " 'attributes.DriveThru_True',\n",
       " 'attributes.Caters_False',\n",
       " 'attributes.Caters_True',\n",
       " 'attributes.RestaurantsTakeOut_False',\n",
       " 'attributes.RestaurantsTakeOut_True',\n",
       " 'attributes.WheelchairAccessible_False',\n",
       " 'attributes.WheelchairAccessible_True',\n",
       " 'attributes.HasTV_False',\n",
       " 'attributes.HasTV_True',\n",
       " 'attributes.HappyHour_False',\n",
       " 'attributes.HappyHour_True',\n",
       " 'attributes.CoatCheck_False',\n",
       " 'attributes.CoatCheck_True',\n",
       " 'attributes.OutdoorSeating_False',\n",
       " 'attributes.OutdoorSeating_True',\n",
       " 'is_open_0',\n",
       " 'is_open_1',\n",
       " 'attributes.AcceptsInsurance_False',\n",
       " 'attributes.AcceptsInsurance_True']"
      ]
     },
     "execution_count": 254,
     "metadata": {},
     "output_type": "execute_result"
    }
   ],
   "source": [
    "res_full.columns.values.tolist()"
   ]
  },
  {
   "cell_type": "markdown",
   "metadata": {},
   "source": [
    "## 3.10 Final Feature Selection"
   ]
  },
  {
   "cell_type": "code",
   "execution_count": 255,
   "metadata": {},
   "outputs": [],
   "source": [
    "cols_ml = ['review_count',\n",
    " 'attributes.RestaurantsAttire_casual',\n",
    " 'attributes.RestaurantsAttire_dressy',\n",
    " 'attributes.RestaurantsAttire_formal',\n",
    " 'attributes.Alcohol_full_bar',\n",
    " 'attributes.RestaurantsReservations_True',\n",
    " 'attributes.GoodForKids_True',\n",
    " 'attributes.Smoking_outdoor',\n",
    " 'attributes.Smoking_yes',\n",
    " 'attributes.NoiseLevel_very_loud',\n",
    " 'attributes.Open24Hours_True',\n",
    " 'attributes.ByAppointmentOnly_True',\n",
    " 'attributes.RestaurantsGoodForGroups_True',\n",
    " 'attributes.WiFi_free',\n",
    " 'attributes.DogsAllowed_True',\n",
    " 'attributes.BusinessAcceptsCreditCards_True',\n",
    " 'attributes.DriveThru_True',\n",
    " 'attributes.Caters_True',\n",
    " 'attributes.RestaurantsPriceRange2',\n",
    " 'attributes.RestaurantsTakeOut_True',\n",
    " 'attributes.HappyHour_True',\n",
    " 'attributes.CoatCheck_True',\n",
    " 'attributes.OutdoorSeating_True',\n",
    " 'ambience_casual',\n",
    " 'ambience_trendy',\n",
    " 'ambience_others',\n",
    " 'attributes.AgesAllowed',\n",
    " 'max_rating_rest',\n",
    " 'min_rating_rest',\n",
    " 'useful','funny','cool',\n",
    " 'american_food','asian_food','european_food',\n",
    " 'sandwich','burger','restaurant',\n",
    " 'date_difference','earliest_till_now','latest_till_now']"
   ]
  },
  {
   "cell_type": "markdown",
   "metadata": {},
   "source": [
    "# 4. Machine Learning Models"
   ]
  },
  {
   "cell_type": "markdown",
   "metadata": {},
   "source": [
    "* Logistic Regression\n",
    "* Random Forest\n",
    "* Bootstrapping\n",
    "* XGBoost"
   ]
  },
  {
   "cell_type": "markdown",
   "metadata": {},
   "source": [
    "## 4.1 Simple Linear Regression"
   ]
  },
  {
   "cell_type": "code",
   "execution_count": 256,
   "metadata": {},
   "outputs": [],
   "source": [
    "X = res_full[cols_ml]\n",
    "y = restaurants['stars']"
   ]
  },
  {
   "cell_type": "code",
   "execution_count": 257,
   "metadata": {},
   "outputs": [
    {
     "name": "stderr",
     "output_type": "stream",
     "text": [
      "/usr/local/lib/python3.6/site-packages/pandas/core/frame.py:3790: SettingWithCopyWarning: \n",
      "A value is trying to be set on a copy of a slice from a DataFrame\n",
      "\n",
      "See the caveats in the documentation: http://pandas.pydata.org/pandas-docs/stable/indexing.html#indexing-view-versus-copy\n",
      "  downcast=downcast, **kwargs)\n"
     ]
    }
   ],
   "source": [
    "X.fillna(0,inplace=True)"
   ]
  },
  {
   "cell_type": "code",
   "execution_count": 258,
   "metadata": {},
   "outputs": [],
   "source": [
    "from sklearn.model_selection import train_test_split\n",
    "train_X, test_X, train_y, test_y = train_test_split(X, y, test_size = 0.3)"
   ]
  },
  {
   "cell_type": "code",
   "execution_count": 259,
   "metadata": {},
   "outputs": [
    {
     "data": {
      "text/plain": [
       "LinearRegression(copy_X=True, fit_intercept=True, n_jobs=None,\n",
       "         normalize=False)"
      ]
     },
     "execution_count": 259,
     "metadata": {},
     "output_type": "execute_result"
    }
   ],
   "source": [
    "from sklearn import linear_model\n",
    "model = linear_model.LinearRegression()\n",
    "model.fit(train_X, train_y)"
   ]
  },
  {
   "cell_type": "code",
   "execution_count": 260,
   "metadata": {},
   "outputs": [
    {
     "data": {
      "text/plain": [
       "array([3.85224924, 3.35739659, 3.32959272, ..., 3.42417037, 3.39836824,\n",
       "       3.40524915])"
      ]
     },
     "execution_count": 260,
     "metadata": {},
     "output_type": "execute_result"
    }
   ],
   "source": [
    "pred_y  = model.predict(test_X)\n",
    "pred_y"
   ]
  },
  {
   "cell_type": "code",
   "execution_count": 261,
   "metadata": {},
   "outputs": [
    {
     "name": "stdout",
     "output_type": "stream",
     "text": [
      "Coefficients: \n",
      " [ 5.08584642e-04  4.53432149e-03  1.28259132e-01  2.92696870e-02\n",
      " -7.95421671e-02  1.95198129e-02 -2.91845897e-02  1.27815860e-03\n",
      "  8.77693247e-02 -2.23274929e-01 -1.94986875e-01  1.46183956e-01\n",
      "  1.61175207e-02  8.75041416e-03  1.58871936e-01 -8.99485964e-03\n",
      " -5.55948335e-01  1.15526844e-01  9.56364183e-03  1.85818458e-02\n",
      " -2.15463338e-02 -9.88732241e-04  3.73441989e-02  1.78820328e-01\n",
      "  1.63766641e-01  2.69248011e-01 -5.81921991e-02  6.38457691e-01\n",
      "  4.15344214e-01 -2.60890628e-02 -1.11137514e-01  1.74339772e-01\n",
      " -4.97568843e-02  5.60990747e-03  5.35685535e-02 -9.70977134e-03\n",
      " -9.83680932e-02 -1.10709814e-01 -1.23448285e-05 -3.55814293e-05\n",
      " -2.32366240e-05]\n",
      "Mean squared error: 0.28\n",
      "Variance score: 0.59\n"
     ]
    }
   ],
   "source": [
    "from sklearn.metrics import mean_squared_error, r2_score\n",
    "\n",
    "# The coefficients\n",
    "print('Coefficients: \\n', model.coef_)\n",
    "# The mean squared error\n",
    "print(\"Mean squared error: %.2f\"\n",
    "      % mean_squared_error(test_y, pred_y))\n",
    "# Explained variance score: 1 is perfect prediction\n",
    "print('Variance score: %.2f' % r2_score(test_y, pred_y))"
   ]
  },
  {
   "cell_type": "markdown",
   "metadata": {},
   "source": [
    "## 4.1.1 Try to classify the successful restaurant using the result above"
   ]
  },
  {
   "cell_type": "code",
   "execution_count": 262,
   "metadata": {},
   "outputs": [],
   "source": [
    "res_full['success'] = np.where(restaurants['stars'] >= 3.5,1,0)"
   ]
  },
  {
   "cell_type": "code",
   "execution_count": 263,
   "metadata": {},
   "outputs": [
    {
     "name": "stderr",
     "output_type": "stream",
     "text": [
      "/usr/local/lib/python3.6/site-packages/pandas/core/frame.py:3790: SettingWithCopyWarning: \n",
      "A value is trying to be set on a copy of a slice from a DataFrame\n",
      "\n",
      "See the caveats in the documentation: http://pandas.pydata.org/pandas-docs/stable/indexing.html#indexing-view-versus-copy\n",
      "  downcast=downcast, **kwargs)\n"
     ]
    }
   ],
   "source": [
    "X = res_full[cols_ml]\n",
    "y = res_full['success']\n",
    "X.fillna(0,inplace=True)\n",
    "train_X, test_X, train_y, test_y = train_test_split(X,y,test_size = 0.3, random_state = 11)"
   ]
  },
  {
   "cell_type": "code",
   "execution_count": 264,
   "metadata": {},
   "outputs": [
    {
     "data": {
      "text/plain": [
       "array([0., 0., 0., ..., 0., 0., 0.])"
      ]
     },
     "execution_count": 264,
     "metadata": {},
     "output_type": "execute_result"
    }
   ],
   "source": [
    "def get_classification(predictions, threshold):\n",
    "    classes = np.zeros_like(predictions)\n",
    "    for i in range(len(classes)):\n",
    "        if predictions[i] > threshold:\n",
    "            classes[i] = 1\n",
    "    return classes\n",
    "get_classification(pred_y, 4)"
   ]
  },
  {
   "cell_type": "code",
   "execution_count": 265,
   "metadata": {},
   "outputs": [
    {
     "name": "stdout",
     "output_type": "stream",
     "text": [
      "6711 1227 12355 2215\n"
     ]
    }
   ],
   "source": [
    "from sklearn.metrics import confusion_matrix\n",
    "tn, fp, fn, tp = confusion_matrix(test_y, get_classification(pred_y,4)).ravel()\n",
    "print(tn, fp, fn, tp)"
   ]
  },
  {
   "cell_type": "code",
   "execution_count": 266,
   "metadata": {},
   "outputs": [
    {
     "name": "stdout",
     "output_type": "stream",
     "text": [
      "0.3965701084059001\n"
     ]
    }
   ],
   "source": [
    "accuracy = (tp+tn)/(tp+tn+fp+fn)\n",
    "print(accuracy)"
   ]
  },
  {
   "cell_type": "code",
   "execution_count": 267,
   "metadata": {},
   "outputs": [
    {
     "data": {
      "image/png": "[encoded data removed]",
      "text/plain": [
       "<Figure size 432x288 with 1 Axes>"
      ]
     },
     "metadata": {
      "needs_background": "light"
     },
     "output_type": "display_data"
    }
   ],
   "source": [
    "from sklearn.metrics import roc_curve, auc\n",
    "testing_predictions = model.predict(test_X)\n",
    "(fpr, tpr, thresholds) = roc_curve(test_y,testing_predictions)\n",
    "\n",
    "area = auc(fpr,tpr)\n",
    "plt.clf() #Clear the current figure\n",
    "plt.plot(fpr,tpr,label=\"Out-Sample ROC Curve with area = %1.2f\"%area)\n",
    "\n",
    "plt.plot([0, 1], [0, 1], 'k')\n",
    "plt.xlim([0.0, 1.0])\n",
    "plt.ylim([0.0, 1.0])\n",
    "plt.xlabel('False Positive Rate')\n",
    "plt.ylabel('True Positive Rate')\n",
    "plt.title('ROC Curve')\n",
    "plt.legend(loc=\"lower right\")\n",
    "plt.show()"
   ]
  },
  {
   "cell_type": "markdown",
   "metadata": {},
   "source": [
    "## 4.1.2 Try SVR"
   ]
  },
  {
   "cell_type": "code",
   "execution_count": null,
   "metadata": {},
   "outputs": [
    {
     "name": "stderr",
     "output_type": "stream",
     "text": [
      "/usr/local/lib/python3.6/site-packages/sklearn/svm/base.py:196: FutureWarning: The default value of gamma will change from 'auto' to 'scale' in version 0.22 to account better for unscaled features. Set gamma explicitly to 'auto' or 'scale' to avoid this warning.\n",
      "  \"avoid this warning.\", FutureWarning)\n"
     ]
    }
   ],
   "source": [
    "from sklearn.svm import SVR\n",
    "svr = SVR(kernel = 'rbf')\n",
    "svr.fit(train_X, train_y)"
   ]
  },
  {
   "cell_type": "markdown",
   "metadata": {},
   "source": [
    "## 4.2 Logistic Regression"
   ]
  },
  {
   "cell_type": "code",
   "execution_count": 268,
   "metadata": {},
   "outputs": [
    {
     "name": "stderr",
     "output_type": "stream",
     "text": [
      "/usr/local/lib/python3.6/site-packages/sklearn/linear_model/logistic.py:433: FutureWarning: Default solver will be changed to 'lbfgs' in 0.22. Specify a solver to silence this warning.\n",
      "  FutureWarning)\n"
     ]
    }
   ],
   "source": [
    "from sklearn.linear_model import LogisticRegression\n",
    "logr = LogisticRegression().fit(train_X,train_y)"
   ]
  },
  {
   "cell_type": "code",
   "execution_count": 269,
   "metadata": {},
   "outputs": [
    {
     "name": "stdout",
     "output_type": "stream",
     "text": [
      "logr training set accuracy: 0.792\n"
     ]
    }
   ],
   "source": [
    "trainset_acc = logr.score(train_X,train_y)\n",
    "print('logr training set accuracy: {:.3f}'.format(trainset_acc))"
   ]
  },
  {
   "cell_type": "code",
   "execution_count": 270,
   "metadata": {},
   "outputs": [
    {
     "name": "stderr",
     "output_type": "stream",
     "text": [
      "/usr/local/lib/python3.6/site-packages/sklearn/linear_model/logistic.py:433: FutureWarning: Default solver will be changed to 'lbfgs' in 0.22. Specify a solver to silence this warning.\n",
      "  FutureWarning)\n",
      "/usr/local/lib/python3.6/site-packages/sklearn/linear_model/logistic.py:433: FutureWarning: Default solver will be changed to 'lbfgs' in 0.22. Specify a solver to silence this warning.\n",
      "  FutureWarning)\n",
      "/usr/local/lib/python3.6/site-packages/sklearn/linear_model/logistic.py:433: FutureWarning: Default solver will be changed to 'lbfgs' in 0.22. Specify a solver to silence this warning.\n",
      "  FutureWarning)\n",
      "/usr/local/lib/python3.6/site-packages/sklearn/linear_model/logistic.py:433: FutureWarning: Default solver will be changed to 'lbfgs' in 0.22. Specify a solver to silence this warning.\n",
      "  FutureWarning)\n",
      "/usr/local/lib/python3.6/site-packages/sklearn/linear_model/logistic.py:433: FutureWarning: Default solver will be changed to 'lbfgs' in 0.22. Specify a solver to silence this warning.\n",
      "  FutureWarning)\n",
      "/usr/local/lib/python3.6/site-packages/sklearn/linear_model/logistic.py:433: FutureWarning: Default solver will be changed to 'lbfgs' in 0.22. Specify a solver to silence this warning.\n",
      "  FutureWarning)\n",
      "/usr/local/lib/python3.6/site-packages/sklearn/linear_model/logistic.py:433: FutureWarning: Default solver will be changed to 'lbfgs' in 0.22. Specify a solver to silence this warning.\n",
      "  FutureWarning)\n",
      "/usr/local/lib/python3.6/site-packages/sklearn/linear_model/logistic.py:433: FutureWarning: Default solver will be changed to 'lbfgs' in 0.22. Specify a solver to silence this warning.\n",
      "  FutureWarning)\n",
      "/usr/local/lib/python3.6/site-packages/sklearn/linear_model/logistic.py:433: FutureWarning: Default solver will be changed to 'lbfgs' in 0.22. Specify a solver to silence this warning.\n",
      "  FutureWarning)\n",
      "/usr/local/lib/python3.6/site-packages/sklearn/linear_model/logistic.py:433: FutureWarning: Default solver will be changed to 'lbfgs' in 0.22. Specify a solver to silence this warning.\n",
      "  FutureWarning)\n",
      "/usr/local/lib/python3.6/site-packages/sklearn/linear_model/logistic.py:433: FutureWarning: Default solver will be changed to 'lbfgs' in 0.22. Specify a solver to silence this warning.\n",
      "  FutureWarning)\n",
      "/usr/local/lib/python3.6/site-packages/sklearn/linear_model/logistic.py:433: FutureWarning: Default solver will be changed to 'lbfgs' in 0.22. Specify a solver to silence this warning.\n",
      "  FutureWarning)\n",
      "/usr/local/lib/python3.6/site-packages/sklearn/linear_model/logistic.py:433: FutureWarning: Default solver will be changed to 'lbfgs' in 0.22. Specify a solver to silence this warning.\n",
      "  FutureWarning)\n",
      "/usr/local/lib/python3.6/site-packages/sklearn/linear_model/logistic.py:433: FutureWarning: Default solver will be changed to 'lbfgs' in 0.22. Specify a solver to silence this warning.\n",
      "  FutureWarning)\n",
      "/usr/local/lib/python3.6/site-packages/sklearn/linear_model/logistic.py:433: FutureWarning: Default solver will be changed to 'lbfgs' in 0.22. Specify a solver to silence this warning.\n",
      "  FutureWarning)\n",
      "/usr/local/lib/python3.6/site-packages/sklearn/linear_model/logistic.py:433: FutureWarning: Default solver will be changed to 'lbfgs' in 0.22. Specify a solver to silence this warning.\n",
      "  FutureWarning)\n",
      "/usr/local/lib/python3.6/site-packages/sklearn/linear_model/logistic.py:433: FutureWarning: Default solver will be changed to 'lbfgs' in 0.22. Specify a solver to silence this warning.\n",
      "  FutureWarning)\n",
      "/usr/local/lib/python3.6/site-packages/sklearn/linear_model/logistic.py:433: FutureWarning: Default solver will be changed to 'lbfgs' in 0.22. Specify a solver to silence this warning.\n",
      "  FutureWarning)\n",
      "/usr/local/lib/python3.6/site-packages/sklearn/linear_model/logistic.py:433: FutureWarning: Default solver will be changed to 'lbfgs' in 0.22. Specify a solver to silence this warning.\n",
      "  FutureWarning)\n",
      "/usr/local/lib/python3.6/site-packages/sklearn/linear_model/logistic.py:433: FutureWarning: Default solver will be changed to 'lbfgs' in 0.22. Specify a solver to silence this warning.\n",
      "  FutureWarning)\n",
      "/usr/local/lib/python3.6/site-packages/sklearn/linear_model/logistic.py:433: FutureWarning: Default solver will be changed to 'lbfgs' in 0.22. Specify a solver to silence this warning.\n",
      "  FutureWarning)\n",
      "/usr/local/lib/python3.6/site-packages/sklearn/linear_model/logistic.py:433: FutureWarning: Default solver will be changed to 'lbfgs' in 0.22. Specify a solver to silence this warning.\n",
      "  FutureWarning)\n"
     ]
    },
    {
     "name": "stdout",
     "output_type": "stream",
     "text": [
      "[False False  True  True False False False False False  True  True  True\n",
      " False False  True  True  True  True False False False False False  True\n",
      "  True  True False  True  True False  True  True  True False  True False\n",
      "  True  True False False False]\n",
      "[18 11  1  1  5  6 12  8  4  1  1  1 13 15  1  1  1  1 19 16 17  7 10  1\n",
      "  1  1  3  1  1  2  1  1  1  9  1 14  1  1 22 20 21]\n"
     ]
    }
   ],
   "source": [
    "# Recursive Feature Elimination\n",
    "from sklearn.feature_selection import RFE\n",
    "from sklearn.linear_model import LogisticRegression\n",
    "logreg = LogisticRegression()\n",
    "rfe = RFE(logreg, 20)\n",
    "rfe = rfe.fit(train_X, train_y)\n",
    "print(rfe.support_)\n",
    "print(rfe.ranking_)"
   ]
  },
  {
   "cell_type": "code",
   "execution_count": 271,
   "metadata": {},
   "outputs": [],
   "source": [
    "rfe_rank = rfe.support_"
   ]
  },
  {
   "cell_type": "code",
   "execution_count": 272,
   "metadata": {},
   "outputs": [],
   "source": [
    "from itertools import compress\n",
    "cols_log = list(compress(cols_ml, rfe_rank))"
   ]
  },
  {
   "cell_type": "code",
   "execution_count": 273,
   "metadata": {},
   "outputs": [],
   "source": [
    "X = X[cols_log]"
   ]
  },
  {
   "cell_type": "code",
   "execution_count": 274,
   "metadata": {},
   "outputs": [
    {
     "name": "stdout",
     "output_type": "stream",
     "text": [
      "Optimization terminated successfully.\n",
      "         Current function value: 0.511525\n",
      "         Iterations 7\n",
      "                                      Results: Logit\n",
      "===========================================================================================\n",
      "Model:                        Logit                    Pseudo R-squared:         0.212     \n",
      "Dependent Variable:           success                  AIC:                      76795.3257\n",
      "Date:                         2018-12-01 21:47         BIC:                      76979.8375\n",
      "No. Observations:             75026                    Log-Likelihood:           -38378.   \n",
      "Df Model:                     19                       LL-Null:                  -48690.   \n",
      "Df Residuals:                 75006                    LLR p-value:              0.0000    \n",
      "Converged:                    1.0000                   Scale:                    1.0000    \n",
      "No. Iterations:               7.0000                                                       \n",
      "-------------------------------------------------------------------------------------------\n",
      "                                            Coef.  Std.Err.    z     P>|z|   [0.025  0.975]\n",
      "-------------------------------------------------------------------------------------------\n",
      "attributes.RestaurantsAttire_dressy         0.7064   0.0768   9.2032 0.0000  0.5560  0.8568\n",
      "attributes.RestaurantsAttire_formal         0.0490   0.2228   0.2198 0.8260 -0.3878  0.4857\n",
      "attributes.NoiseLevel_very_loud            -0.8649   0.0608 -14.2246 0.0000 -0.9840 -0.7457\n",
      "attributes.Open24Hours_True                -0.6325   0.4136  -1.5294 0.1262 -1.4430  0.1781\n",
      "attributes.ByAppointmentOnly_True           0.5632   0.2583   2.1802 0.0292  0.0569  1.0696\n",
      "attributes.DogsAllowed_True                 0.9200   0.0781  11.7767 0.0000  0.7669  1.0731\n",
      "attributes.BusinessAcceptsCreditCards_True -0.5607   0.0254 -22.0345 0.0000 -0.6105 -0.5108\n",
      "attributes.DriveThru_True                  -1.2371   0.0559 -22.1389 0.0000 -1.3467 -1.1276\n",
      "attributes.Caters_True                      0.5135   0.0213  24.0615 0.0000  0.4716  0.5553\n",
      "ambience_casual                             0.9496   0.0216  43.8879 0.0000  0.9072  0.9920\n",
      "ambience_trendy                             1.1178   0.0622  17.9695 0.0000  0.9959  1.2398\n",
      "ambience_others                             1.2868   0.0463  27.7678 0.0000  1.1960  1.3777\n",
      "max_rating_rest                            -0.0131   0.0075  -1.7415 0.0816 -0.0279  0.0016\n",
      "min_rating_rest                             1.0946   0.0172  63.4672 0.0000  1.0608  1.1284\n",
      "funny                                      -1.3766   0.0287 -47.8983 0.0000 -1.4329 -1.3203\n",
      "cool                                        1.2043   0.0267  45.1749 0.0000  1.1521  1.2566\n",
      "american_food                              -0.1110   0.0264  -4.2077 0.0000 -0.1627 -0.0593\n",
      "european_food                               0.2810   0.0295   9.5164 0.0000  0.2231  0.3388\n",
      "burger                                     -0.3417   0.0366  -9.3243 0.0000 -0.4135 -0.2698\n",
      "restaurant                                 -0.8728   0.0237 -36.8381 0.0000 -0.9192 -0.8263\n",
      "===========================================================================================\n",
      "\n"
     ]
    }
   ],
   "source": [
    "import statsmodels.api as sm\n",
    "logit_model=sm.Logit(y,X)\n",
    "result=logit_model.fit()\n",
    "print(result.summary2())"
   ]
  },
  {
   "cell_type": "code",
   "execution_count": 275,
   "metadata": {},
   "outputs": [
    {
     "data": {
      "text/plain": [
       "['attributes.RestaurantsAttire_dressy',\n",
       " 'attributes.RestaurantsAttire_formal',\n",
       " 'attributes.NoiseLevel_very_loud',\n",
       " 'attributes.Open24Hours_True',\n",
       " 'attributes.ByAppointmentOnly_True',\n",
       " 'attributes.DogsAllowed_True',\n",
       " 'attributes.BusinessAcceptsCreditCards_True',\n",
       " 'attributes.DriveThru_True',\n",
       " 'attributes.Caters_True',\n",
       " 'ambience_casual',\n",
       " 'ambience_trendy',\n",
       " 'ambience_others',\n",
       " 'max_rating_rest',\n",
       " 'min_rating_rest',\n",
       " 'funny',\n",
       " 'cool',\n",
       " 'american_food',\n",
       " 'european_food',\n",
       " 'burger',\n",
       " 'restaurant']"
      ]
     },
     "execution_count": 275,
     "metadata": {},
     "output_type": "execute_result"
    }
   ],
   "source": [
    "cols_log"
   ]
  },
  {
   "cell_type": "code",
   "execution_count": 276,
   "metadata": {},
   "outputs": [],
   "source": [
    "cols_log = ['attributes.RestaurantsAttire_dressy',\n",
    " 'attributes.NoiseLevel_very_loud',\n",
    " 'attributes.ByAppointmentOnly_True',\n",
    " 'attributes.DogsAllowed_True',\n",
    " 'attributes.BusinessAcceptsCreditCards_True',\n",
    " 'attributes.DriveThru_True',\n",
    " 'attributes.Caters_True',\n",
    " 'ambience_casual',\n",
    " 'ambience_trendy',\n",
    " 'ambience_others',\n",
    " 'min_rating_rest',\n",
    " 'funny',\n",
    " 'cool',\n",
    " 'american_food',\n",
    " 'european_food',\n",
    " 'burger',\n",
    " 'restaurant']"
   ]
  },
  {
   "cell_type": "code",
   "execution_count": 277,
   "metadata": {},
   "outputs": [
    {
     "name": "stdout",
     "output_type": "stream",
     "text": [
      "Optimization terminated successfully.\n",
      "         Current function value: 0.511561\n",
      "         Iterations 7\n",
      "                                      Results: Logit\n",
      "===========================================================================================\n",
      "Model:                        Logit                    Pseudo R-squared:         0.212     \n",
      "Dependent Variable:           success                  AIC:                      76794.7600\n",
      "Date:                         2018-12-01 21:47         BIC:                      76951.5950\n",
      "No. Observations:             75026                    Log-Likelihood:           -38380.   \n",
      "Df Model:                     16                       LL-Null:                  -48690.   \n",
      "Df Residuals:                 75009                    LLR p-value:              0.0000    \n",
      "Converged:                    1.0000                   Scale:                    1.0000    \n",
      "No. Iterations:               7.0000                                                       \n",
      "-------------------------------------------------------------------------------------------\n",
      "                                            Coef.  Std.Err.    z     P>|z|   [0.025  0.975]\n",
      "-------------------------------------------------------------------------------------------\n",
      "attributes.RestaurantsAttire_dressy         0.7078   0.0767   9.2250 0.0000  0.5575  0.8582\n",
      "attributes.NoiseLevel_very_loud            -0.8672   0.0608 -14.2691 0.0000 -0.9863 -0.7481\n",
      "attributes.ByAppointmentOnly_True           0.5535   0.2584   2.1419 0.0322  0.0470  1.0600\n",
      "attributes.DogsAllowed_True                 0.9189   0.0781  11.7643 0.0000  0.7658  1.0720\n",
      "attributes.BusinessAcceptsCreditCards_True -0.5867   0.0207 -28.3564 0.0000 -0.6272 -0.5461\n",
      "attributes.DriveThru_True                  -1.2341   0.0558 -22.1071 0.0000 -1.3435 -1.1247\n",
      "attributes.Caters_True                      0.5118   0.0213  24.0188 0.0000  0.4701  0.5536\n",
      "ambience_casual                             0.9462   0.0216  43.8667 0.0000  0.9040  0.9885\n",
      "ambience_trendy                             1.1161   0.0622  17.9465 0.0000  0.9942  1.2380\n",
      "ambience_others                             1.2825   0.0463  27.6995 0.0000  1.1918  1.3733\n",
      "min_rating_rest                             1.0784   0.0144  75.0349 0.0000  1.0502  1.1065\n",
      "funny                                      -1.3797   0.0287 -48.0938 0.0000 -1.4359 -1.3234\n",
      "cool                                        1.2001   0.0265  45.2543 0.0000  1.1482  1.2521\n",
      "american_food                              -0.1100   0.0264  -4.1734 0.0000 -0.1616 -0.0583\n",
      "european_food                               0.2811   0.0295   9.5234 0.0000  0.2232  0.3389\n",
      "burger                                     -0.3425   0.0366  -9.3503 0.0000 -0.4143 -0.2707\n",
      "restaurant                                 -0.8905   0.0214 -41.6743 0.0000 -0.9323 -0.8486\n",
      "===========================================================================================\n",
      "\n"
     ]
    }
   ],
   "source": [
    "X = X[cols_log]\n",
    "import statsmodels.api as sm\n",
    "logit_model=sm.Logit(y,X)\n",
    "result=logit_model.fit()\n",
    "print(result.summary2())"
   ]
  },
  {
   "cell_type": "code",
   "execution_count": 278,
   "metadata": {},
   "outputs": [
    {
     "name": "stderr",
     "output_type": "stream",
     "text": [
      "/usr/local/lib/python3.6/site-packages/sklearn/linear_model/logistic.py:433: FutureWarning: Default solver will be changed to 'lbfgs' in 0.22. Specify a solver to silence this warning.\n",
      "  FutureWarning)\n"
     ]
    },
    {
     "data": {
      "text/plain": [
       "LogisticRegression(C=1.0, class_weight=None, dual=False, fit_intercept=True,\n",
       "          intercept_scaling=1, max_iter=100, multi_class='warn',\n",
       "          n_jobs=None, penalty='l2', random_state=None, solver='warn',\n",
       "          tol=0.0001, verbose=0, warm_start=False)"
      ]
     },
     "execution_count": 278,
     "metadata": {},
     "output_type": "execute_result"
    }
   ],
   "source": [
    "from sklearn.linear_model import LogisticRegression\n",
    "from sklearn import metrics\n",
    "\n",
    "X_train, X_test, y_train, y_test = train_test_split(X, y, test_size=0.3, random_state=0)\n",
    "\n",
    "logreg = LogisticRegression()\n",
    "logreg.fit(X_train, y_train)"
   ]
  },
  {
   "cell_type": "code",
   "execution_count": 279,
   "metadata": {},
   "outputs": [
    {
     "name": "stdout",
     "output_type": "stream",
     "text": [
      "Accuracy of logistic regression classifier on test set: 0.75\n"
     ]
    }
   ],
   "source": [
    "y_pred = logreg.predict(X_test)\n",
    "print('Accuracy of logistic regression classifier on test set: {:.2f}'.format(logreg.score(X_test, y_test)))"
   ]
  },
  {
   "cell_type": "code",
   "execution_count": 280,
   "metadata": {},
   "outputs": [
    {
     "data": {
      "image/png": "[encoded data removed]",
      "text/plain": [
       "<Figure size 432x288 with 1 Axes>"
      ]
     },
     "metadata": {
      "needs_background": "light"
     },
     "output_type": "display_data"
    }
   ],
   "source": [
    "from sklearn.metrics import roc_auc_score\n",
    "from sklearn.metrics import roc_curve\n",
    "\n",
    "logit_roc_auc = roc_auc_score(y_test, logreg.predict(X_test))\n",
    "fpr, tpr, thresholds = roc_curve(y_test, logreg.predict_proba(X_test)[:,1])\n",
    "plt.figure()\n",
    "plt.plot(fpr, tpr, label='Logistic Regression (area = %0.2f)' % logit_roc_auc)\n",
    "plt.plot([0, 1], [0, 1],'r--')\n",
    "plt.xlim([0.0, 1.0])\n",
    "plt.ylim([0.0, 1.05])\n",
    "plt.xlabel('False Positive Rate')\n",
    "plt.ylabel('True Positive Rate')\n",
    "plt.title('Receiver operating characteristic')\n",
    "plt.legend(loc=\"lower right\")\n",
    "plt.savefig('Log_ROC')\n",
    "plt.show()"
   ]
  },
  {
   "cell_type": "markdown",
   "metadata": {},
   "source": [
    "## 4.3 Decision Trees"
   ]
  },
  {
   "cell_type": "code",
   "execution_count": 281,
   "metadata": {},
   "outputs": [
    {
     "data": {
      "text/plain": [
       "DecisionTreeClassifier(class_weight=None, criterion='entropy', max_depth=5,\n",
       "            max_features=None, max_leaf_nodes=None,\n",
       "            min_impurity_decrease=0.0, min_impurity_split=None,\n",
       "            min_samples_leaf=1, min_samples_split=2,\n",
       "            min_weight_fraction_leaf=0.0, presort=False, random_state=None,\n",
       "            splitter='best')"
      ]
     },
     "execution_count": 281,
     "metadata": {},
     "output_type": "execute_result"
    }
   ],
   "source": [
    "from sklearn.tree import DecisionTreeClassifier\n",
    "from sklearn import tree\n",
    "\n",
    "model = tree.DecisionTreeClassifier(max_depth = 5,criterion='entropy')\n",
    "model.fit(train_X,train_y)"
   ]
  },
  {
   "cell_type": "code",
   "execution_count": 282,
   "metadata": {},
   "outputs": [
    {
     "name": "stdout",
     "output_type": "stream",
     "text": [
      "[[10594  4196]\n",
      " [ 7914 29814]]\n",
      "[[ 4488  1872]\n",
      " [ 3450 12698]]\n"
     ]
    }
   ],
   "source": [
    "from sklearn.metrics import confusion_matrix\n",
    "p_train=model.predict(train_X)\n",
    "p_test = model.predict(test_X)\n",
    "print(confusion_matrix(p_train,np.array(train_y)))\n",
    "print(confusion_matrix(p_test,np.array(test_y)))"
   ]
  },
  {
   "cell_type": "code",
   "execution_count": 283,
   "metadata": {},
   "outputs": [
    {
     "data": {
      "image/png": "[encoded data removed]",
      "text/plain": [
       "<Figure size 432x288 with 1 Axes>"
      ]
     },
     "metadata": {
      "needs_background": "light"
     },
     "output_type": "display_data"
    }
   ],
   "source": [
    "from sklearn.metrics import roc_curve,auc\n",
    "import pylab as pl\n",
    "%matplotlib inline\n",
    "(fpr, tpr, thresholds) = roc_curve(test_y,p_test)\n",
    "area = auc(fpr,tpr)\n",
    "pl.clf() #Clear the current figure\n",
    "pl.plot(fpr,tpr,label=\"Out-Sample ROC Curve with area = %1.2f\"%area)\n",
    "\n",
    "pl.plot([0, 1], [0, 1], 'k') #This plots the random (equal probability line)\n",
    "pl.xlim([0.0, 1.0])\n",
    "pl.ylim([0.0, 1.0])\n",
    "pl.xlabel('False Positive Rate')\n",
    "pl.ylabel('True Positive Rate')\n",
    "pl.title('ROC')\n",
    "pl.legend(loc=\"lower right\")\n",
    "pl.show()"
   ]
  },
  {
   "cell_type": "markdown",
   "metadata": {},
   "source": [
    "## 4.4 Random Forest"
   ]
  },
  {
   "cell_type": "code",
   "execution_count": 284,
   "metadata": {},
   "outputs": [
    {
     "data": {
      "text/plain": [
       "RandomForestClassifier(bootstrap=True, class_weight=None, criterion='gini',\n",
       "            max_depth=None, max_features='auto', max_leaf_nodes=None,\n",
       "            min_impurity_decrease=0.0, min_impurity_split=None,\n",
       "            min_samples_leaf=1, min_samples_split=2,\n",
       "            min_weight_fraction_leaf=0.0, n_estimators=10, n_jobs=None,\n",
       "            oob_score=False, random_state=None, verbose=0,\n",
       "            warm_start=False)"
      ]
     },
     "execution_count": 284,
     "metadata": {},
     "output_type": "execute_result"
    }
   ],
   "source": [
    "from sklearn.ensemble import RandomForestClassifier\n",
    "rf = RandomForestClassifier(n_estimators=10)\n",
    "\n",
    "X_train, X_test, y_train, y_test = train_test_split(X, y, test_size=0.3, random_state=0)\n",
    "rf.fit(train_X, train_y)"
   ]
  },
  {
   "cell_type": "code",
   "execution_count": 285,
   "metadata": {},
   "outputs": [
    {
     "data": {
      "text/plain": [
       "0.7723031810911676"
      ]
     },
     "execution_count": 285,
     "metadata": {},
     "output_type": "execute_result"
    }
   ],
   "source": [
    "rf.score(test_X,test_y)"
   ]
  },
  {
   "cell_type": "code",
   "execution_count": 286,
   "metadata": {},
   "outputs": [
    {
     "data": {
      "text/plain": [
       "array([0.08959099, 0.0058812 , 0.00116556, 0.00035581, 0.00770084,\n",
       "       0.00913108, 0.00846175, 0.00338995, 0.0012418 , 0.00427815,\n",
       "       0.00020861, 0.00028128, 0.00807681, 0.01017066, 0.00225212,\n",
       "       0.00788099, 0.02084486, 0.01010556, 0.02033953, 0.00728433,\n",
       "       0.00482008, 0.0015153 , 0.01082923, 0.01093746, 0.00218063,\n",
       "       0.00463587, 0.00070556, 0.10999531, 0.11568076, 0.07159584,\n",
       "       0.07841336, 0.09292601, 0.0081265 , 0.00767043, 0.00693982,\n",
       "       0.00668514, 0.00721077, 0.00492138, 0.07891341, 0.07955258,\n",
       "       0.07710269])"
      ]
     },
     "execution_count": 286,
     "metadata": {},
     "output_type": "execute_result"
    }
   ],
   "source": [
    "rf.feature_importances_"
   ]
  },
  {
   "cell_type": "code",
   "execution_count": 287,
   "metadata": {},
   "outputs": [],
   "source": [
    "import matplotlib.pyplot as plt\n",
    "%matplotlib inline\n",
    "\n",
    "importances = rf.feature_importances_\n",
    "indices = np.argsort(importances)"
   ]
  },
  {
   "cell_type": "code",
   "execution_count": 288,
   "metadata": {},
   "outputs": [
    {
     "name": "stdout",
     "output_type": "stream",
     "text": [
      "('attributes.RestaurantsAttire_dressy', 8.959099080336387)\n",
      "('attributes.NoiseLevel_very_loud', 0.5881201780757414)\n",
      "('attributes.ByAppointmentOnly_True', 0.11655619678765086)\n",
      "('attributes.DogsAllowed_True', 0.03558068934268487)\n",
      "('attributes.BusinessAcceptsCreditCards_True', 0.7700842092222121)\n",
      "('attributes.DriveThru_True', 0.9131084315223726)\n",
      "('attributes.Caters_True', 0.8461751561609231)\n",
      "('ambience_casual', 0.3389947307178994)\n",
      "('ambience_trendy', 0.12417966505238379)\n",
      "('ambience_others', 0.427815127369696)\n",
      "('min_rating_rest', 0.020861124641489707)\n",
      "('funny', 0.02812833814246498)\n",
      "('cool', 0.8076807781729959)\n",
      "('american_food', 1.0170662486095965)\n",
      "('european_food', 0.2252116474712088)\n",
      "('burger', 0.7880986616503487)\n",
      "('restaurant', 2.084486323605348)\n"
     ]
    }
   ],
   "source": [
    "for i in zip(cols_log, importances*100):\n",
    "    print(i)"
   ]
  },
  {
   "cell_type": "markdown",
   "metadata": {},
   "source": [
    "## 4.5 Bootstrapping"
   ]
  },
  {
   "cell_type": "code",
   "execution_count": 289,
   "metadata": {},
   "outputs": [
    {
     "data": {
      "text/plain": [
       "BaggingClassifier(base_estimator=None, bootstrap=True,\n",
       "         bootstrap_features=False, max_features=1.0, max_samples=1.0,\n",
       "         n_estimators=10, n_jobs=None, oob_score=False, random_state=None,\n",
       "         verbose=0, warm_start=False)"
      ]
     },
     "execution_count": 289,
     "metadata": {},
     "output_type": "execute_result"
    }
   ],
   "source": [
    "from sklearn.ensemble import BaggingClassifier\n",
    "model=BaggingClassifier()\n",
    "model.fit(train_X,np.ravel(train_y))"
   ]
  },
  {
   "cell_type": "code",
   "execution_count": 290,
   "metadata": {},
   "outputs": [
    {
     "data": {
      "text/plain": [
       "0.7707481784254487"
      ]
     },
     "execution_count": 290,
     "metadata": {},
     "output_type": "execute_result"
    }
   ],
   "source": [
    "model.score(test_X,test_y)"
   ]
  },
  {
   "cell_type": "markdown",
   "metadata": {},
   "source": [
    "## 4.6. Support Vector Machine "
   ]
  },
  {
   "cell_type": "markdown",
   "metadata": {},
   "source": [
    "## 4.7 XGBoost"
   ]
  },
  {
   "cell_type": "code",
   "execution_count": 243,
   "metadata": {},
   "outputs": [],
   "source": [
    "import sklearn\n",
    "X_train, X_test, y_train, y_test = sklearn.model_selection.train_test_split(X, y, test_size=0.95)"
   ]
  },
  {
   "cell_type": "code",
   "execution_count": 244,
   "metadata": {},
   "outputs": [],
   "source": [
    "dtrain = xgb.DMatrix(X_train,label=y_train)\n",
    "dtest= xgb.DMatrix(X_test,label=y_test)"
   ]
  },
  {
   "cell_type": "code",
   "execution_count": 245,
   "metadata": {},
   "outputs": [],
   "source": [
    "train_labels = dtrain.get_label()\n",
    "\n",
    "params = { 'eta':0.3, 'silent':1, 'objective':'binary:logistic' }\n",
    "ratio = float(np.sum(train_labels == 0)) / np.sum(train_labels == 1)\n",
    "params['scale_pos_weight'] = ratio"
   ]
  },
  {
   "cell_type": "code",
   "execution_count": 246,
   "metadata": {},
   "outputs": [
    {
     "name": "stdout",
     "output_type": "stream",
     "text": [
      "{'eta': 0.3, 'silent': 1, 'objective': 'binary:logistic', 'scale_pos_weight': 0.5463875205254516, 'min_child_weight': 1, 'gamma': 1.5, 'subsample': 0.8, 'colsample_bytree': 0.7, 'max_depth': 5} \n",
      "\n",
      "[0]\ttest-error:0.447286\ttrain-error:0.448102\n",
      "[1]\ttest-error:0.445484\ttrain-error:0.431909\n",
      "[2]\ttest-error:0.442649\ttrain-error:0.42952\n",
      "[3]\ttest-error:0.435496\ttrain-error:0.422352\n",
      "[4]\ttest-error:0.435287\ttrain-error:0.421556\n",
      "[5]\ttest-error:0.435385\ttrain-error:0.421025\n",
      "[6]\ttest-error:0.436851\ttrain-error:0.422883\n",
      "[7]\ttest-error:0.427995\ttrain-error:0.409875\n",
      "[8]\ttest-error:0.419236\ttrain-error:0.397664\n",
      "[9]\ttest-error:0.419962\ttrain-error:0.399788\n",
      "[10]\ttest-error:0.362311\ttrain-error:0.344837\n",
      "[11]\ttest-error:0.412084\ttrain-error:0.391558\n",
      "[12]\ttest-error:0.410156\ttrain-error:0.390496\n",
      "[13]\ttest-error:0.410212\ttrain-error:0.390496\n",
      "[14]\ttest-error:0.410184\ttrain-error:0.390762\n",
      "[15]\ttest-error:0.410058\ttrain-error:0.391027\n",
      "[16]\ttest-error:0.410086\ttrain-error:0.391293\n",
      "[17]\ttest-error:0.410086\ttrain-error:0.391293\n",
      "[18]\ttest-error:0.410184\ttrain-error:0.391027\n",
      "[19]\ttest-error:0.415646\ttrain-error:0.401115\n",
      "[20]\ttest-error:0.415674\ttrain-error:0.40138\n",
      "[21]\ttest-error:0.415702\ttrain-error:0.401115\n",
      "[22]\ttest-error:0.436488\ttrain-error:0.424476\n",
      "[23]\ttest-error:0.435021\ttrain-error:0.419963\n",
      "[24]\ttest-error:0.435091\ttrain-error:0.420228\n",
      "[25]\ttest-error:0.435021\ttrain-error:0.419963\n",
      "[26]\ttest-error:0.436069\ttrain-error:0.421556\n",
      "[27]\ttest-error:0.436069\ttrain-error:0.421556\n",
      "[28]\ttest-error:0.436069\ttrain-error:0.421556\n",
      "[29]\ttest-error:0.436013\ttrain-error:0.421556\n",
      "[30]\ttest-error:0.435873\ttrain-error:0.421025\n",
      "[31]\ttest-error:0.435203\ttrain-error:0.420759\n",
      "[32]\ttest-error:0.435203\ttrain-error:0.420759\n",
      "[33]\ttest-error:0.435189\ttrain-error:0.420759\n",
      "[34]\ttest-error:0.435426\ttrain-error:0.420494\n",
      "[35]\ttest-error:0.433568\ttrain-error:0.415981\n",
      "[36]\ttest-error:0.430537\ttrain-error:0.413857\n",
      "[37]\ttest-error:0.430551\ttrain-error:0.413857\n",
      "[38]\ttest-error:0.43002\ttrain-error:0.413857\n",
      "[39]\ttest-error:0.430467\ttrain-error:0.413592\n",
      "[40]\ttest-error:0.431473\ttrain-error:0.414123\n",
      "[41]\ttest-error:0.431473\ttrain-error:0.414123\n",
      "[42]\ttest-error:0.434393\ttrain-error:0.416512\n",
      "[43]\ttest-error:0.434546\ttrain-error:0.416777\n",
      "[44]\ttest-error:0.434546\ttrain-error:0.416777\n",
      "[45]\ttest-error:0.43463\ttrain-error:0.415715\n",
      "[46]\ttest-error:0.43463\ttrain-error:0.415715\n",
      "[47]\ttest-error:0.434588\ttrain-error:0.41545\n",
      "[48]\ttest-error:0.434546\ttrain-error:0.41545\n",
      "[49]\ttest-error:0.434546\ttrain-error:0.41545\n",
      "+++++++++++++++++++++++++++++++++++++++++++++++\n",
      "\n",
      "{'eta': 0.3, 'silent': 1, 'objective': 'binary:logistic', 'scale_pos_weight': 0.5463875205254516, 'min_child_weight': 3, 'gamma': 1.0, 'subsample': 0.7, 'colsample_bytree': 0.9, 'max_depth': 3} \n",
      "\n",
      "[0]\ttest-error:0.493609\ttrain-error:0.490045\n",
      "[1]\ttest-error:0.493609\ttrain-error:0.490045\n",
      "[2]\ttest-error:0.487448\ttrain-error:0.484736\n",
      "[3]\ttest-error:0.442481\ttrain-error:0.433501\n",
      "[4]\ttest-error:0.442481\ttrain-error:0.433501\n",
      "[5]\ttest-error:0.448027\ttrain-error:0.440403\n",
      "[6]\ttest-error:0.402347\ttrain-error:0.393417\n",
      "[7]\ttest-error:0.403842\ttrain-error:0.392355\n",
      "[8]\ttest-error:0.422896\ttrain-error:0.409344\n",
      "[9]\ttest-error:0.422616\ttrain-error:0.409344\n",
      "[10]\ttest-error:0.403744\ttrain-error:0.392355\n",
      "[11]\ttest-error:0.440525\ttrain-error:0.43244\n",
      "[12]\ttest-error:0.414584\ttrain-error:0.397398\n",
      "[13]\ttest-error:0.419711\ttrain-error:0.404831\n",
      "[14]\ttest-error:0.416023\ttrain-error:0.412264\n",
      "[15]\ttest-error:0.410617\ttrain-error:0.402442\n",
      "[16]\ttest-error:0.414696\ttrain-error:0.409875\n",
      "[17]\ttest-error:0.412293\ttrain-error:0.410406\n",
      "[18]\ttest-error:0.404023\ttrain-error:0.396868\n",
      "[19]\ttest-error:0.407027\ttrain-error:0.398991\n",
      "[20]\ttest-error:0.40746\ttrain-error:0.399257\n",
      "[21]\ttest-error:0.404065\ttrain-error:0.396602\n",
      "[22]\ttest-error:0.412642\ttrain-error:0.410937\n",
      "[23]\ttest-error:0.429336\ttrain-error:0.419432\n",
      "[24]\ttest-error:0.429853\ttrain-error:0.419697\n",
      "[25]\ttest-error:0.426179\ttrain-error:0.417043\n",
      "[26]\ttest-error:0.429545\ttrain-error:0.419432\n",
      "[27]\ttest-error:0.423203\ttrain-error:0.409344\n",
      "[28]\ttest-error:0.423888\ttrain-error:0.409344\n",
      "[29]\ttest-error:0.423664\ttrain-error:0.409079\n",
      "[30]\ttest-error:0.421317\ttrain-error:0.406159\n",
      "[31]\ttest-error:0.425857\ttrain-error:0.416512\n",
      "[32]\ttest-error:0.423664\ttrain-error:0.416246\n",
      "[33]\ttest-error:0.423664\ttrain-error:0.416246\n",
      "[34]\ttest-error:0.415492\ttrain-error:0.411733\n",
      "[35]\ttest-error:0.407557\ttrain-error:0.397398\n",
      "[36]\ttest-error:0.420409\ttrain-error:0.405362\n",
      "[37]\ttest-error:0.420367\ttrain-error:0.405362\n",
      "[38]\ttest-error:0.409974\ttrain-error:0.400319\n",
      "[39]\ttest-error:0.409974\ttrain-error:0.400319\n",
      "[40]\ttest-error:0.421611\ttrain-error:0.406955\n",
      "[41]\ttest-error:0.422072\ttrain-error:0.408017\n",
      "[42]\ttest-error:0.428079\ttrain-error:0.419166\n",
      "[43]\ttest-error:0.42812\ttrain-error:0.41837\n",
      "[44]\ttest-error:0.42263\ttrain-error:0.408282\n",
      "[45]\ttest-error:0.418286\ttrain-error:0.40138\n",
      "[46]\ttest-error:0.418537\ttrain-error:0.401646\n",
      "[47]\ttest-error:0.418132\ttrain-error:0.401646\n",
      "[48]\ttest-error:0.417462\ttrain-error:0.401115\n",
      "[49]\ttest-error:0.418062\ttrain-error:0.400319\n",
      "+++++++++++++++++++++++++++++++++++++++++++++++\n",
      "\n",
      "{'eta': 0.3, 'silent': 1, 'objective': 'binary:logistic', 'scale_pos_weight': 0.5463875205254516, 'min_child_weight': 3, 'gamma': 1.0, 'subsample': 0.8, 'colsample_bytree': 1.0, 'max_depth': 3} \n",
      "\n",
      "[0]\ttest-error:0.493609\ttrain-error:0.490045\n",
      "[1]\ttest-error:0.493609\ttrain-error:0.490045\n",
      "[2]\ttest-error:0.484752\ttrain-error:0.480488\n",
      "[3]\ttest-error:0.484836\ttrain-error:0.480488\n",
      "[4]\ttest-error:0.480212\ttrain-error:0.47571\n",
      "[5]\ttest-error:0.462723\ttrain-error:0.455269\n",
      "[6]\ttest-error:0.479514\ttrain-error:0.475445\n",
      "[7]\ttest-error:0.472669\ttrain-error:0.468012\n",
      "[8]\ttest-error:0.43558\ttrain-error:0.421821\n",
      "[9]\ttest-error:0.449368\ttrain-error:0.439873\n",
      "[10]\ttest-error:0.449675\ttrain-error:0.440403\n",
      "[11]\ttest-error:0.431725\ttrain-error:0.415981\n",
      "[12]\ttest-error:0.453754\ttrain-error:0.442262\n",
      "[13]\ttest-error:0.432144\ttrain-error:0.415715\n",
      "[14]\ttest-error:0.434686\ttrain-error:0.426334\n",
      "[15]\ttest-error:0.442285\ttrain-error:0.431643\n",
      "[16]\ttest-error:0.443892\ttrain-error:0.431643\n",
      "[17]\ttest-error:0.432507\ttrain-error:0.426865\n",
      "[18]\ttest-error:0.418873\ttrain-error:0.400849\n",
      "[19]\ttest-error:0.418649\ttrain-error:0.400849\n",
      "[20]\ttest-error:0.416177\ttrain-error:0.400319\n",
      "[21]\ttest-error:0.416903\ttrain-error:0.400053\n",
      "[22]\ttest-error:0.416889\ttrain-error:0.400053\n",
      "[23]\ttest-error:0.441741\ttrain-error:0.433501\n",
      "[24]\ttest-error:0.435748\ttrain-error:0.423679\n",
      "[25]\ttest-error:0.435762\ttrain-error:0.423679\n",
      "[26]\ttest-error:0.438667\ttrain-error:0.426334\n",
      "[27]\ttest-error:0.440386\ttrain-error:0.428723\n",
      "[28]\ttest-error:0.440525\ttrain-error:0.428458\n",
      "[29]\ttest-error:0.440567\ttrain-error:0.428458\n",
      "[30]\ttest-error:0.436181\ttrain-error:0.423945\n",
      "[31]\ttest-error:0.436223\ttrain-error:0.423945\n",
      "[32]\ttest-error:0.441349\ttrain-error:0.429785\n",
      "[33]\ttest-error:0.421708\ttrain-error:0.406159\n",
      "[34]\ttest-error:0.421848\ttrain-error:0.406159\n",
      "[35]\ttest-error:0.421625\ttrain-error:0.406159\n",
      "[36]\ttest-error:0.441028\ttrain-error:0.42952\n",
      "[37]\ttest-error:0.44128\ttrain-error:0.42952\n",
      "[38]\ttest-error:0.440833\ttrain-error:0.428989\n",
      "[39]\ttest-error:0.440833\ttrain-error:0.428989\n",
      "[40]\ttest-error:0.440791\ttrain-error:0.428989\n",
      "[41]\ttest-error:0.437997\ttrain-error:0.425538\n",
      "[42]\ttest-error:0.437578\ttrain-error:0.425007\n",
      "[43]\ttest-error:0.438472\ttrain-error:0.425007\n",
      "[44]\ttest-error:0.441042\ttrain-error:0.42952\n",
      "[45]\ttest-error:0.442928\ttrain-error:0.431909\n",
      "[46]\ttest-error:0.435315\ttrain-error:0.422883\n",
      "[47]\ttest-error:0.442718\ttrain-error:0.431909\n",
      "[48]\ttest-error:0.443026\ttrain-error:0.431909\n",
      "[49]\ttest-error:0.441601\ttrain-error:0.431378\n",
      "+++++++++++++++++++++++++++++++++++++++++++++++\n",
      "\n",
      "{'eta': 0.3, 'silent': 1, 'objective': 'binary:logistic', 'scale_pos_weight': 0.5463875205254516, 'min_child_weight': 1, 'gamma': 1.0, 'subsample': 1.0, 'colsample_bytree': 1.0, 'max_depth': 5} \n",
      "\n",
      "[0]\ttest-error:0.488426\ttrain-error:0.480754\n",
      "[1]\ttest-error:0.48749\ttrain-error:0.479958\n",
      "[2]\ttest-error:0.451086\ttrain-error:0.440669\n",
      "[3]\ttest-error:0.463589\ttrain-error:0.456597\n",
      "[4]\ttest-error:0.425815\ttrain-error:0.418105\n",
      "[5]\ttest-error:0.42474\ttrain-error:0.417574\n",
      "[6]\ttest-error:0.422407\ttrain-error:0.414123\n",
      "[7]\ttest-error:0.432982\ttrain-error:0.41837\n",
      "[8]\ttest-error:0.433149\ttrain-error:0.41837\n",
      "[9]\ttest-error:0.43836\ttrain-error:0.423679\n",
      "[10]\ttest-error:0.422211\ttrain-error:0.404301\n",
      "[11]\ttest-error:0.415855\ttrain-error:0.396602\n",
      "[12]\ttest-error:0.415883\ttrain-error:0.397133\n",
      "[13]\ttest-error:0.417168\ttrain-error:0.399522\n",
      "[14]\ttest-error:0.41566\ttrain-error:0.397133\n",
      "[15]\ttest-error:0.435818\ttrain-error:0.420494\n",
      "[16]\ttest-error:0.435832\ttrain-error:0.420228\n",
      "[17]\ttest-error:0.435818\ttrain-error:0.420228\n",
      "[18]\ttest-error:0.435818\ttrain-error:0.420228\n",
      "[19]\ttest-error:0.435818\ttrain-error:0.420228\n",
      "[20]\ttest-error:0.435818\ttrain-error:0.420228\n",
      "[21]\ttest-error:0.435818\ttrain-error:0.420228\n",
      "[22]\ttest-error:0.435818\ttrain-error:0.420228\n",
      "[23]\ttest-error:0.435818\ttrain-error:0.420228\n",
      "[24]\ttest-error:0.435818\ttrain-error:0.420228\n",
      "[25]\ttest-error:0.435818\ttrain-error:0.420228\n",
      "[26]\ttest-error:0.435818\ttrain-error:0.420228\n",
      "[27]\ttest-error:0.435818\ttrain-error:0.420228\n",
      "[28]\ttest-error:0.435818\ttrain-error:0.420228\n",
      "[29]\ttest-error:0.435818\ttrain-error:0.420228\n",
      "[30]\ttest-error:0.435818\ttrain-error:0.420228\n",
      "[31]\ttest-error:0.435818\ttrain-error:0.420228\n",
      "[32]\ttest-error:0.435818\ttrain-error:0.420228\n",
      "[33]\ttest-error:0.435818\ttrain-error:0.420228\n",
      "[34]\ttest-error:0.435818\ttrain-error:0.420228\n",
      "[35]\ttest-error:0.435818\ttrain-error:0.420228\n",
      "[36]\ttest-error:0.435818\ttrain-error:0.420228\n",
      "[37]\ttest-error:0.435818\ttrain-error:0.420228\n",
      "[38]\ttest-error:0.435818\ttrain-error:0.420228\n",
      "[39]\ttest-error:0.435818\ttrain-error:0.420228\n",
      "[40]\ttest-error:0.435818\ttrain-error:0.420228\n",
      "[41]\ttest-error:0.435818\ttrain-error:0.420228\n",
      "[42]\ttest-error:0.435818\ttrain-error:0.420228\n",
      "[43]\ttest-error:0.435818\ttrain-error:0.420228\n",
      "[44]\ttest-error:0.435818\ttrain-error:0.420228\n",
      "[45]\ttest-error:0.435818\ttrain-error:0.420228\n",
      "[46]\ttest-error:0.435818\ttrain-error:0.420228\n",
      "[47]\ttest-error:0.435818\ttrain-error:0.420228\n",
      "[48]\ttest-error:0.435818\ttrain-error:0.420228\n",
      "[49]\ttest-error:0.435818\ttrain-error:0.420228\n",
      "+++++++++++++++++++++++++++++++++++++++++++++++\n",
      "\n",
      "{'eta': 0.3, 'silent': 1, 'objective': 'binary:logistic', 'scale_pos_weight': 0.5463875205254516, 'min_child_weight': 2, 'gamma': 0.5, 'subsample': 1.0, 'colsample_bytree': 0.6, 'max_depth': 2} \n",
      "\n",
      "[0]\ttest-error:0.509157\ttrain-error:0.50438\n",
      "[1]\ttest-error:0.48851\ttrain-error:0.481816\n",
      "[2]\ttest-error:0.481651\ttrain-error:0.475445\n",
      "[3]\ttest-error:0.4814\ttrain-error:0.475445\n",
      "[4]\ttest-error:0.480925\ttrain-error:0.475445\n",
      "[5]\ttest-error:0.44107\ttrain-error:0.438811\n",
      "[6]\ttest-error:0.478564\ttrain-error:0.471463\n",
      "[7]\ttest-error:0.440693\ttrain-error:0.43828\n",
      "[8]\ttest-error:0.440707\ttrain-error:0.438811\n",
      "[9]\ttest-error:0.440763\ttrain-error:0.438811\n",
      "[10]\ttest-error:0.415241\ttrain-error:0.409079\n",
      "[11]\ttest-error:0.453112\ttrain-error:0.442262\n",
      "[12]\ttest-error:0.453056\ttrain-error:0.442262\n",
      "[13]\ttest-error:0.415296\ttrain-error:0.409079\n",
      "[14]\ttest-error:0.415199\ttrain-error:0.409079\n",
      "[15]\ttest-error:0.441321\ttrain-error:0.428989\n",
      "[16]\ttest-error:0.420577\ttrain-error:0.413857\n",
      "[17]\ttest-error:0.421988\ttrain-error:0.414654\n",
      "[18]\ttest-error:0.437717\ttrain-error:0.425803\n",
      "[19]\ttest-error:0.434574\ttrain-error:0.422352\n",
      "[20]\ttest-error:0.434113\ttrain-error:0.422087\n",
      "[21]\ttest-error:0.43396\ttrain-error:0.422087\n",
      "[22]\ttest-error:0.433974\ttrain-error:0.422087\n",
      "[23]\ttest-error:0.437843\ttrain-error:0.423679\n",
      "[24]\ttest-error:0.429014\ttrain-error:0.417043\n",
      "[25]\ttest-error:0.428777\ttrain-error:0.416777\n",
      "[26]\ttest-error:0.428791\ttrain-error:0.416777\n",
      "[27]\ttest-error:0.428805\ttrain-error:0.416777\n",
      "[28]\ttest-error:0.41823\ttrain-error:0.411733\n",
      "[29]\ttest-error:0.418202\ttrain-error:0.411733\n",
      "[30]\ttest-error:0.418202\ttrain-error:0.411733\n",
      "[31]\ttest-error:0.426737\ttrain-error:0.413326\n",
      "[32]\ttest-error:0.426165\ttrain-error:0.413061\n",
      "[33]\ttest-error:0.42548\ttrain-error:0.411999\n",
      "[34]\ttest-error:0.425438\ttrain-error:0.411999\n",
      "[35]\ttest-error:0.426165\ttrain-error:0.411999\n",
      "[36]\ttest-error:0.415646\ttrain-error:0.406955\n",
      "[37]\ttest-error:0.412992\ttrain-error:0.406424\n",
      "[38]\ttest-error:0.418496\ttrain-error:0.404566\n",
      "[39]\ttest-error:0.425424\ttrain-error:0.411733\n",
      "[40]\ttest-error:0.425424\ttrain-error:0.411733\n",
      "[41]\ttest-error:0.425466\ttrain-error:0.411733\n",
      "[42]\ttest-error:0.425424\ttrain-error:0.411733\n",
      "[43]\ttest-error:0.425424\ttrain-error:0.411733\n",
      "[44]\ttest-error:0.43389\ttrain-error:0.426599\n",
      "[45]\ttest-error:0.434057\ttrain-error:0.426334\n",
      "[46]\ttest-error:0.434267\ttrain-error:0.426334\n",
      "[47]\ttest-error:0.434267\ttrain-error:0.426334\n",
      "[48]\ttest-error:0.434281\ttrain-error:0.426334\n",
      "[49]\ttest-error:0.439114\ttrain-error:0.43244\n",
      "+++++++++++++++++++++++++++++++++++++++++++++++\n",
      "\n",
      "{'eta': 0.3, 'silent': 1, 'objective': 'binary:logistic', 'scale_pos_weight': 0.5463875205254516, 'min_child_weight': 2, 'gamma': 1.5, 'subsample': 0.6, 'colsample_bytree': 0.6, 'max_depth': 3} \n",
      "\n",
      "[0]\ttest-error:0.493609\ttrain-error:0.490045\n",
      "[1]\ttest-error:0.493609\ttrain-error:0.490045\n",
      "[2]\ttest-error:0.487448\ttrain-error:0.484736\n",
      "[3]\ttest-error:0.487448\ttrain-error:0.484736\n",
      "[4]\ttest-error:0.479695\ttrain-error:0.477568\n",
      "[5]\ttest-error:0.481679\ttrain-error:0.475179\n",
      "[6]\ttest-error:0.462248\ttrain-error:0.453146\n",
      "[7]\ttest-error:0.462569\ttrain-error:0.453411\n",
      "[8]\ttest-error:0.463295\ttrain-error:0.454739\n",
      "[9]\ttest-error:0.449396\ttrain-error:0.441731\n",
      "[10]\ttest-error:0.429517\ttrain-error:0.415184\n",
      "[11]\ttest-error:0.444255\ttrain-error:0.434563\n",
      "[12]\ttest-error:0.421499\ttrain-error:0.407486\n",
      "[13]\ttest-error:0.441294\ttrain-error:0.431643\n",
      "[14]\ttest-error:0.434379\ttrain-error:0.431112\n",
      "[15]\ttest-error:0.430104\ttrain-error:0.421556\n",
      "[16]\ttest-error:0.432381\ttrain-error:0.42713\n",
      "[17]\ttest-error:0.428805\ttrain-error:0.420759\n",
      "[18]\ttest-error:0.426235\ttrain-error:0.410406\n",
      "[19]\ttest-error:0.426682\ttrain-error:0.410672\n",
      "[20]\ttest-error:0.425983\ttrain-error:0.409344\n",
      "[21]\ttest-error:0.407781\ttrain-error:0.396071\n",
      "[22]\ttest-error:0.437606\ttrain-error:0.424741\n",
      "[23]\ttest-error:0.435748\ttrain-error:0.428723\n",
      "[24]\ttest-error:0.430258\ttrain-error:0.418901\n",
      "[25]\ttest-error:0.410477\ttrain-error:0.395275\n",
      "[26]\ttest-error:0.434854\ttrain-error:0.425803\n",
      "[27]\ttest-error:0.424083\ttrain-error:0.420759\n",
      "[28]\ttest-error:0.435245\ttrain-error:0.425272\n",
      "[29]\ttest-error:0.425508\ttrain-error:0.421025\n",
      "[30]\ttest-error:0.430858\ttrain-error:0.417308\n",
      "[31]\ttest-error:0.436614\ttrain-error:0.427661\n",
      "[32]\ttest-error:0.441126\ttrain-error:0.434032\n",
      "[33]\ttest-error:0.441126\ttrain-error:0.434032\n",
      "[34]\ttest-error:0.435664\ttrain-error:0.423945\n",
      "[35]\ttest-error:0.423329\ttrain-error:0.419432\n",
      "[36]\ttest-error:0.424097\ttrain-error:0.41837\n",
      "[37]\ttest-error:0.434658\ttrain-error:0.423414\n",
      "[38]\ttest-error:0.434756\ttrain-error:0.423414\n",
      "[39]\ttest-error:0.434756\ttrain-error:0.423414\n",
      "[40]\ttest-error:0.440497\ttrain-error:0.433501\n",
      "[41]\ttest-error:0.440469\ttrain-error:0.433501\n",
      "[42]\ttest-error:0.441252\ttrain-error:0.434032\n",
      "[43]\ttest-error:0.440623\ttrain-error:0.428458\n",
      "[44]\ttest-error:0.442746\ttrain-error:0.436687\n",
      "[45]\ttest-error:0.438109\ttrain-error:0.429785\n",
      "[46]\ttest-error:0.433177\ttrain-error:0.419697\n",
      "[47]\ttest-error:0.432758\ttrain-error:0.419166\n",
      "[48]\ttest-error:0.442593\ttrain-error:0.437483\n",
      "[49]\ttest-error:0.418202\ttrain-error:0.406955\n",
      "+++++++++++++++++++++++++++++++++++++++++++++++\n",
      "\n",
      "{'eta': 0.3, 'silent': 1, 'objective': 'binary:logistic', 'scale_pos_weight': 0.5463875205254516, 'min_child_weight': 2, 'gamma': 2.0, 'subsample': 0.6, 'colsample_bytree': 0.7, 'max_depth': 4} \n",
      "\n",
      "[0]\ttest-error:0.493609\ttrain-error:0.490045\n",
      "[1]\ttest-error:0.447901\ttrain-error:0.43828\n",
      "[2]\ttest-error:0.442537\ttrain-error:0.433236\n",
      "[3]\ttest-error:0.440246\ttrain-error:0.429785\n",
      "[4]\ttest-error:0.440427\ttrain-error:0.428192\n",
      "[5]\ttest-error:0.441196\ttrain-error:0.42713\n",
      "[6]\ttest-error:0.429713\ttrain-error:0.416246\n",
      "[7]\ttest-error:0.431305\ttrain-error:0.417308\n",
      "[8]\ttest-error:0.427897\ttrain-error:0.416246\n",
      "[9]\ttest-error:0.425033\ttrain-error:0.414123\n",
      "[10]\ttest-error:0.420395\ttrain-error:0.40377\n",
      "[11]\ttest-error:0.425648\ttrain-error:0.413326\n",
      "[12]\ttest-error:0.421401\ttrain-error:0.411203\n",
      "[13]\ttest-error:0.421625\ttrain-error:0.409344\n",
      "[14]\ttest-error:0.421513\ttrain-error:0.408548\n",
      "[15]\ttest-error:0.421862\ttrain-error:0.408813\n",
      "[16]\ttest-error:0.420842\ttrain-error:0.408548\n",
      "[17]\ttest-error:0.420172\ttrain-error:0.405097\n",
      "[18]\ttest-error:0.419976\ttrain-error:0.404301\n",
      "[19]\ttest-error:0.420605\ttrain-error:0.405362\n",
      "[20]\ttest-error:0.419865\ttrain-error:0.402442\n",
      "[21]\ttest-error:0.416302\ttrain-error:0.398991\n",
      "[22]\ttest-error:0.416931\ttrain-error:0.400053\n",
      "[23]\ttest-error:0.434323\ttrain-error:0.421556\n",
      "[24]\ttest-error:0.409932\ttrain-error:0.391824\n",
      "[25]\ttest-error:0.409276\ttrain-error:0.390496\n",
      "[26]\ttest-error:0.409946\ttrain-error:0.391824\n",
      "[27]\ttest-error:0.41165\ttrain-error:0.394213\n",
      "[28]\ttest-error:0.41897\ttrain-error:0.401646\n",
      "[29]\ttest-error:0.411441\ttrain-error:0.394478\n",
      "[30]\ttest-error:0.413131\ttrain-error:0.393417\n",
      "[31]\ttest-error:0.433094\ttrain-error:0.417308\n",
      "[32]\ttest-error:0.43294\ttrain-error:0.417308\n",
      "[33]\ttest-error:0.43294\ttrain-error:0.417308\n",
      "[34]\ttest-error:0.432954\ttrain-error:0.417308\n",
      "[35]\ttest-error:0.407446\ttrain-error:0.390762\n",
      "[36]\ttest-error:0.410687\ttrain-error:0.392886\n",
      "[37]\ttest-error:0.412964\ttrain-error:0.393417\n",
      "[38]\ttest-error:0.41105\ttrain-error:0.39262\n",
      "[39]\ttest-error:0.411008\ttrain-error:0.39262\n",
      "[40]\ttest-error:0.413271\ttrain-error:0.393417\n",
      "[41]\ttest-error:0.413271\ttrain-error:0.393417\n",
      "[42]\ttest-error:0.437731\ttrain-error:0.42421\n",
      "[43]\ttest-error:0.437731\ttrain-error:0.42421\n",
      "[44]\ttest-error:0.417951\ttrain-error:0.400584\n",
      "[45]\ttest-error:0.417853\ttrain-error:0.400584\n",
      "[46]\ttest-error:0.413187\ttrain-error:0.393417\n",
      "[47]\ttest-error:0.413187\ttrain-error:0.393417\n",
      "[48]\ttest-error:0.413215\ttrain-error:0.393417\n",
      "[49]\ttest-error:0.413215\ttrain-error:0.393417\n",
      "+++++++++++++++++++++++++++++++++++++++++++++++\n",
      "\n",
      "{'eta': 0.3, 'silent': 1, 'objective': 'binary:logistic', 'scale_pos_weight': 0.5463875205254516, 'min_child_weight': 4, 'gamma': 1.5, 'subsample': 0.9, 'colsample_bytree': 0.8, 'max_depth': 4} \n",
      "\n",
      "[0]\ttest-error:0.495914\ttrain-error:0.489249\n",
      "[1]\ttest-error:0.449424\ttrain-error:0.436687\n",
      "[2]\ttest-error:0.44744\ttrain-error:0.435094\n",
      "[3]\ttest-error:0.437103\ttrain-error:0.422352\n",
      "[4]\ttest-error:0.43375\ttrain-error:0.419963\n",
      "[5]\ttest-error:0.434616\ttrain-error:0.420228\n",
      "[6]\ttest-error:0.430761\ttrain-error:0.416512\n",
      "[7]\ttest-error:0.424558\ttrain-error:0.409344\n",
      "[8]\ttest-error:0.424558\ttrain-error:0.40961\n",
      "[9]\ttest-error:0.418677\ttrain-error:0.399522\n",
      "[10]\ttest-error:0.428637\ttrain-error:0.410937\n",
      "[11]\ttest-error:0.429126\ttrain-error:0.411203\n",
      "[12]\ttest-error:0.42745\ttrain-error:0.409875\n",
      "[13]\ttest-error:0.426919\ttrain-error:0.410406\n",
      "[14]\ttest-error:0.429336\ttrain-error:0.413061\n",
      "[15]\ttest-error:0.429406\ttrain-error:0.412795\n",
      "[16]\ttest-error:0.427855\ttrain-error:0.410406\n",
      "[17]\ttest-error:0.429322\ttrain-error:0.412795\n",
      "[18]\ttest-error:0.424656\ttrain-error:0.408282\n",
      "[19]\ttest-error:0.427799\ttrain-error:0.410406\n",
      "[20]\ttest-error:0.427799\ttrain-error:0.410406\n",
      "[21]\ttest-error:0.427813\ttrain-error:0.410406\n",
      "[22]\ttest-error:0.428023\ttrain-error:0.409875\n",
      "[23]\ttest-error:0.42745\ttrain-error:0.41253\n",
      "[24]\ttest-error:0.427659\ttrain-error:0.412264\n",
      "[25]\ttest-error:0.42474\ttrain-error:0.409875\n",
      "[26]\ttest-error:0.426849\ttrain-error:0.411733\n",
      "[27]\ttest-error:0.426849\ttrain-error:0.411733\n",
      "[28]\ttest-error:0.426905\ttrain-error:0.411733\n",
      "[29]\ttest-error:0.426905\ttrain-error:0.411733\n",
      "[30]\ttest-error:0.426905\ttrain-error:0.411733\n",
      "[31]\ttest-error:0.426905\ttrain-error:0.411733\n",
      "[32]\ttest-error:0.426905\ttrain-error:0.411733\n",
      "[33]\ttest-error:0.426905\ttrain-error:0.411733\n",
      "[34]\ttest-error:0.426905\ttrain-error:0.411733\n",
      "[35]\ttest-error:0.426905\ttrain-error:0.411733\n",
      "[36]\ttest-error:0.43917\ttrain-error:0.427396\n",
      "[37]\ttest-error:0.438248\ttrain-error:0.426599\n",
      "[38]\ttest-error:0.438178\ttrain-error:0.426599\n",
      "[39]\ttest-error:0.438248\ttrain-error:0.426599\n",
      "[40]\ttest-error:0.438248\ttrain-error:0.426599\n",
      "[41]\ttest-error:0.438248\ttrain-error:0.426599\n",
      "[42]\ttest-error:0.438248\ttrain-error:0.426599\n",
      "[43]\ttest-error:0.438318\ttrain-error:0.426599\n",
      "[44]\ttest-error:0.438346\ttrain-error:0.426599\n",
      "[45]\ttest-error:0.438346\ttrain-error:0.426599\n",
      "[46]\ttest-error:0.440148\ttrain-error:0.427396\n",
      "[47]\ttest-error:0.440148\ttrain-error:0.427396\n",
      "[48]\ttest-error:0.440148\ttrain-error:0.427396\n",
      "[49]\ttest-error:0.440791\ttrain-error:0.427396\n",
      "+++++++++++++++++++++++++++++++++++++++++++++++\n",
      "\n",
      "{'eta': 0.3, 'silent': 1, 'objective': 'binary:logistic', 'scale_pos_weight': 0.5463875205254516, 'min_child_weight': 5, 'gamma': 2.0, 'subsample': 0.7, 'colsample_bytree': 0.9, 'max_depth': 5} \n",
      "\n",
      "[0]\ttest-error:0.444981\ttrain-error:0.448898\n",
      "[1]\ttest-error:0.444143\ttrain-error:0.433767\n",
      "[2]\ttest-error:0.403883\ttrain-error:0.393947\n",
      "[3]\ttest-error:0.418426\ttrain-error:0.416512\n",
      "[4]\ttest-error:0.417937\ttrain-error:0.415184\n",
      "[5]\ttest-error:0.4183\ttrain-error:0.415184\n",
      "[6]\ttest-error:0.416721\ttrain-error:0.399788\n",
      "[7]\ttest-error:0.423245\ttrain-error:0.409344\n",
      "[8]\ttest-error:0.421694\ttrain-error:0.408017\n",
      "[9]\ttest-error:0.422644\ttrain-error:0.408017\n",
      "[10]\ttest-error:0.423147\ttrain-error:0.408813\n",
      "[11]\ttest-error:0.422463\ttrain-error:0.407486\n",
      "[12]\ttest-error:0.417099\ttrain-error:0.397664\n",
      "[13]\ttest-error:0.429475\ttrain-error:0.416777\n",
      "[14]\ttest-error:0.449298\ttrain-error:0.440669\n",
      "[15]\ttest-error:0.429517\ttrain-error:0.417308\n",
      "[16]\ttest-error:0.429168\ttrain-error:0.417043\n",
      "[17]\ttest-error:0.445917\ttrain-error:0.434032\n",
      "[18]\ttest-error:0.423748\ttrain-error:0.407221\n",
      "[19]\ttest-error:0.443543\ttrain-error:0.430316\n",
      "[20]\ttest-error:0.443543\ttrain-error:0.430316\n",
      "[21]\ttest-error:0.423776\ttrain-error:0.406955\n",
      "[22]\ttest-error:0.43375\ttrain-error:0.42129\n",
      "[23]\ttest-error:0.436474\ttrain-error:0.425803\n",
      "[24]\ttest-error:0.436474\ttrain-error:0.425803\n",
      "[25]\ttest-error:0.43375\ttrain-error:0.42129\n",
      "[26]\ttest-error:0.436474\ttrain-error:0.425803\n",
      "[27]\ttest-error:0.436474\ttrain-error:0.425803\n",
      "[28]\ttest-error:0.438723\ttrain-error:0.427661\n",
      "[29]\ttest-error:0.438765\ttrain-error:0.427661\n",
      "[30]\ttest-error:0.416107\ttrain-error:0.401911\n",
      "[31]\ttest-error:0.438709\ttrain-error:0.427661\n",
      "[32]\ttest-error:0.416107\ttrain-error:0.401911\n",
      "[33]\ttest-error:0.438709\ttrain-error:0.427661\n",
      "[34]\ttest-error:0.437648\ttrain-error:0.425538\n",
      "[35]\ttest-error:0.413397\ttrain-error:0.397133\n",
      "[36]\ttest-error:0.416302\ttrain-error:0.400053\n",
      "[37]\ttest-error:0.416428\ttrain-error:0.400584\n",
      "[38]\ttest-error:0.41626\ttrain-error:0.400584\n",
      "[39]\ttest-error:0.416218\ttrain-error:0.400319\n",
      "[40]\ttest-error:0.416414\ttrain-error:0.400584\n",
      "[41]\ttest-error:0.416414\ttrain-error:0.400584\n",
      "[42]\ttest-error:0.436153\ttrain-error:0.423945\n",
      "[43]\ttest-error:0.436544\ttrain-error:0.424476\n",
      "[44]\ttest-error:0.436153\ttrain-error:0.423945\n",
      "[45]\ttest-error:0.436153\ttrain-error:0.423945\n",
      "[46]\ttest-error:0.436153\ttrain-error:0.423945\n",
      "[47]\ttest-error:0.436153\ttrain-error:0.423945\n",
      "[48]\ttest-error:0.436153\ttrain-error:0.423945\n",
      "[49]\ttest-error:0.436153\ttrain-error:0.423945\n",
      "+++++++++++++++++++++++++++++++++++++++++++++++\n",
      "\n",
      "{'eta': 0.3, 'silent': 1, 'objective': 'binary:logistic', 'scale_pos_weight': 0.5463875205254516, 'min_child_weight': 5, 'gamma': 1.5, 'subsample': 0.6, 'colsample_bytree': 0.9, 'max_depth': 2} \n",
      "\n",
      "[0]\ttest-error:0.331131\ttrain-error:0.334218\n",
      "[1]\ttest-error:0.493609\ttrain-error:0.490045\n",
      "[2]\ttest-error:0.487854\ttrain-error:0.485267\n",
      "[3]\ttest-error:0.487854\ttrain-error:0.485267\n",
      "[4]\ttest-error:0.479709\ttrain-error:0.476772\n",
      "[5]\ttest-error:0.479709\ttrain-error:0.476772\n",
      "[6]\ttest-error:0.43938\ttrain-error:0.440138\n",
      "[7]\ttest-error:0.441447\ttrain-error:0.438811\n",
      "[8]\ttest-error:0.440218\ttrain-error:0.440138\n",
      "[9]\ttest-error:0.466606\ttrain-error:0.464826\n",
      "[10]\ttest-error:0.412908\ttrain-error:0.406424\n",
      "[11]\ttest-error:0.447845\ttrain-error:0.445978\n",
      "[12]\ttest-error:0.427436\ttrain-error:0.421025\n",
      "[13]\ttest-error:0.429727\ttrain-error:0.430847\n",
      "[14]\ttest-error:0.436488\ttrain-error:0.434298\n",
      "[15]\ttest-error:0.432716\ttrain-error:0.42952\n",
      "[16]\ttest-error:0.452357\ttrain-error:0.448102\n",
      "[17]\ttest-error:0.453042\ttrain-error:0.448102\n",
      "[18]\ttest-error:0.435832\ttrain-error:0.427396\n",
      "[19]\ttest-error:0.434951\ttrain-error:0.421821\n",
      "[20]\ttest-error:0.434672\ttrain-error:0.424476\n",
      "[21]\ttest-error:0.432018\ttrain-error:0.424476\n",
      "[22]\ttest-error:0.434644\ttrain-error:0.423945\n",
      "[23]\ttest-error:0.435315\ttrain-error:0.423945\n",
      "[24]\ttest-error:0.429573\ttrain-error:0.414388\n",
      "[25]\ttest-error:0.429573\ttrain-error:0.414388\n",
      "[26]\ttest-error:0.429573\ttrain-error:0.414388\n",
      "[27]\ttest-error:0.412265\ttrain-error:0.40138\n",
      "[28]\ttest-error:0.418733\ttrain-error:0.411203\n",
      "[29]\ttest-error:0.417867\ttrain-error:0.411203\n",
      "[30]\ttest-error:0.410589\ttrain-error:0.404301\n",
      "[31]\ttest-error:0.415548\ttrain-error:0.411733\n",
      "[32]\ttest-error:0.41559\ttrain-error:0.411733\n",
      "[33]\ttest-error:0.43477\ttrain-error:0.435094\n",
      "[34]\ttest-error:0.429755\ttrain-error:0.430847\n",
      "[35]\ttest-error:0.406929\ttrain-error:0.397398\n",
      "[36]\ttest-error:0.417071\ttrain-error:0.402973\n",
      "[37]\ttest-error:0.42305\ttrain-error:0.40961\n",
      "[38]\ttest-error:0.410184\ttrain-error:0.400584\n",
      "[39]\ttest-error:0.408242\ttrain-error:0.397664\n",
      "[40]\ttest-error:0.411706\ttrain-error:0.402973\n",
      "[41]\ttest-error:0.411706\ttrain-error:0.402973\n",
      "[42]\ttest-error:0.422295\ttrain-error:0.408017\n",
      "[43]\ttest-error:0.411916\ttrain-error:0.403239\n",
      "[44]\ttest-error:0.420381\ttrain-error:0.405097\n",
      "[45]\ttest-error:0.420395\ttrain-error:0.405097\n",
      "[46]\ttest-error:0.409779\ttrain-error:0.400053\n",
      "[47]\ttest-error:0.418803\ttrain-error:0.402708\n",
      "[48]\ttest-error:0.424279\ttrain-error:0.414388\n",
      "[49]\ttest-error:0.424279\ttrain-error:0.414388\n",
      "+++++++++++++++++++++++++++++++++++++++++++++++\n",
      "\n"
     ]
    }
   ],
   "source": [
    "import random\n",
    "for i in range(10):\n",
    "    mcw=random.randint(1,5)\n",
    "    gamma=random.randrange(1,5,step=1)/2\n",
    "    subsample=random.randrange(6,11,step=1)/10\n",
    "    colbt=random.randrange(6,11,step=1)/10\n",
    "    maxdepth=random.randint(2,5)\n",
    "\n",
    "    params[ 'min_child_weight']=mcw\n",
    "    params['gamma']=gamma\n",
    "    params['subsample']=subsample\n",
    "    params[ 'colsample_bytree']=colbt\n",
    "    params['max_depth']=maxdepth\n",
    "\n",
    "    num_rounds = 50\n",
    "    watchlist  = [(dtest,'test'), (dtrain,'train')]\n",
    "    print(params,'\\n')\n",
    "    bst = xgb.train(params, dtrain, num_rounds, watchlist)\n",
    "    print('+++++++++++++++++++++++++++++++++++++++++++++++\\n')"
   ]
  },
  {
   "cell_type": "code",
   "execution_count": 247,
   "metadata": {},
   "outputs": [],
   "source": [
    "import xgboost as xgb\n",
    "preds = bst.predict(dtest)"
   ]
  },
  {
   "cell_type": "code",
   "execution_count": 248,
   "metadata": {},
   "outputs": [
    {
     "data": {
      "text/plain": [
       "0.5920270395240772"
      ]
     },
     "execution_count": 248,
     "metadata": {},
     "output_type": "execute_result"
    }
   ],
   "source": [
    "res=[ i>0.5 for i in preds]\n",
    "res=np.array(res).astype(np.int8)\n",
    "from sklearn.metrics import roc_auc_score\n",
    "result=roc_auc_score(np.squeeze(y_test).values,res)\n",
    "result"
   ]
  },
  {
   "cell_type": "code",
   "execution_count": null,
   "metadata": {},
   "outputs": [],
   "source": []
  }
 ],
 "metadata": {
  "kernelspec": {
   "display_name": "Python 3",
   "language": "python",
   "name": "python3"
  }
 },
 "nbformat": 4,
 "nbformat_minor": 2
}
